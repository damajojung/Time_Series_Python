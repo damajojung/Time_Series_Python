{
 "cells": [
  {
   "cell_type": "markdown",
   "metadata": {},
   "source": [
    "# Poisson Regression for Competiton"
   ]
  },
  {
   "cell_type": "code",
   "execution_count": 4,
   "metadata": {},
   "outputs": [],
   "source": [
    "\n",
    "import numpy as np\n",
    "import matplotlib.pyplot as plt\n",
    "import pandas as pd\n",
    "import seaborn as sns\n",
    "from statsmodels.tsa.stattools import adfuller\n",
    "import statsmodels.api as sm\n",
    "from patsy import dmatrices\n",
    "plt.style.use(['ggplot'])"
   ]
  },
  {
   "cell_type": "code",
   "execution_count": 5,
   "metadata": {},
   "outputs": [
    {
     "name": "stdout",
     "output_type": "stream",
     "text": [
      "Unnamed: 0     int64\n",
      "d             object\n",
      "date          object\n",
      "weekday       object\n",
      "id            object\n",
      "sales          int64\n",
      "dtype: object\n"
     ]
    }
   ],
   "source": [
    "# load the dataset\n",
    "PATH = '/Users/dj/Documents/GitHub/Data/ts_forecast'\n",
    "df = pd.read_csv( PATH + '/df.csv') # Training data \n",
    "df1 = pd.read_csv( PATH + '/df1.csv') # Testing data\n",
    "df2 = pd.read_csv( PATH + '/df2.csv') # Complete data for Competition\n",
    "reduced = pd.read_csv( PATH + '/reduced.csv') #Only last month\n",
    "print(df.dtypes) # We can see that month is of type object, therefore it will be changed to datetime"
   ]
  },
  {
   "cell_type": "code",
   "execution_count": 6,
   "metadata": {},
   "outputs": [],
   "source": [
    "# For some strange reason, a new column is being added which will be removed \n",
    "df = df.drop(['Unnamed: 0'], axis=1)\n",
    "df1 = df1.drop(['Unnamed: 0'], axis=1)\n",
    "df2 = df2.drop(['Unnamed: 0'], axis=1)\n",
    "reduced = reduced.drop(['Unnamed: 0'], axis=1)"
   ]
  },
  {
   "cell_type": "code",
   "execution_count": 7,
   "metadata": {},
   "outputs": [
    {
     "name": "stdout",
     "output_type": "stream",
     "text": [
      "d                  object\n",
      "date       datetime64[ns]\n",
      "weekday            object\n",
      "id                 object\n",
      "sales               int64\n",
      "dtype: object\n"
     ]
    }
   ],
   "source": [
    "# Change the type object of date to date\n",
    "df['date'] = pd.to_datetime(df['date'])\n",
    "df1['date'] = pd.to_datetime(df1['date'])\n",
    "df2['date'] = pd.to_datetime(df2['date'])\n",
    "reduced['date'] = pd.to_datetime(reduced['date'])\n",
    "\n",
    "print(df.dtypes)"
   ]
  },
  {
   "cell_type": "code",
   "execution_count": 8,
   "metadata": {},
   "outputs": [
    {
     "data": {
      "text/html": [
       "<div>\n",
       "<style scoped>\n",
       "    .dataframe tbody tr th:only-of-type {\n",
       "        vertical-align: middle;\n",
       "    }\n",
       "\n",
       "    .dataframe tbody tr th {\n",
       "        vertical-align: top;\n",
       "    }\n",
       "\n",
       "    .dataframe thead th {\n",
       "        text-align: right;\n",
       "    }\n",
       "</style>\n",
       "<table border=\"1\" class=\"dataframe\">\n",
       "  <thead>\n",
       "    <tr style=\"text-align: right;\">\n",
       "      <th></th>\n",
       "      <th>d</th>\n",
       "      <th>date</th>\n",
       "      <th>weekday</th>\n",
       "      <th>id</th>\n",
       "      <th>sales</th>\n",
       "    </tr>\n",
       "  </thead>\n",
       "  <tbody>\n",
       "    <tr>\n",
       "      <th>0</th>\n",
       "      <td>d_1</td>\n",
       "      <td>2011-01-29</td>\n",
       "      <td>Saturday</td>\n",
       "      <td>FOODS_3_001_TX_3_validation</td>\n",
       "      <td>0</td>\n",
       "    </tr>\n",
       "    <tr>\n",
       "      <th>1093</th>\n",
       "      <td>d_2</td>\n",
       "      <td>2011-01-30</td>\n",
       "      <td>Sunday</td>\n",
       "      <td>FOODS_3_001_TX_3_validation</td>\n",
       "      <td>2</td>\n",
       "    </tr>\n",
       "    <tr>\n",
       "      <th>1945</th>\n",
       "      <td>d_3</td>\n",
       "      <td>2011-01-31</td>\n",
       "      <td>Monday</td>\n",
       "      <td>FOODS_3_001_TX_3_validation</td>\n",
       "      <td>1</td>\n",
       "    </tr>\n",
       "    <tr>\n",
       "      <th>2916</th>\n",
       "      <td>d_4</td>\n",
       "      <td>2011-02-01</td>\n",
       "      <td>Tuesday</td>\n",
       "      <td>FOODS_3_001_TX_3_validation</td>\n",
       "      <td>3</td>\n",
       "    </tr>\n",
       "    <tr>\n",
       "      <th>3565</th>\n",
       "      <td>d_5</td>\n",
       "      <td>2011-02-02</td>\n",
       "      <td>Wednesday</td>\n",
       "      <td>FOODS_3_001_TX_3_validation</td>\n",
       "      <td>0</td>\n",
       "    </tr>\n",
       "    <tr>\n",
       "      <th>...</th>\n",
       "      <td>...</td>\n",
       "      <td>...</td>\n",
       "      <td>...</td>\n",
       "      <td>...</td>\n",
       "      <td>...</td>\n",
       "    </tr>\n",
       "    <tr>\n",
       "      <th>1570833</th>\n",
       "      <td>d_1909</td>\n",
       "      <td>2016-04-20</td>\n",
       "      <td>Wednesday</td>\n",
       "      <td>FOODS_3_827_TX_3_validation</td>\n",
       "      <td>0</td>\n",
       "    </tr>\n",
       "    <tr>\n",
       "      <th>1571482</th>\n",
       "      <td>d_1910</td>\n",
       "      <td>2016-04-21</td>\n",
       "      <td>Thursday</td>\n",
       "      <td>FOODS_3_827_TX_3_validation</td>\n",
       "      <td>1</td>\n",
       "    </tr>\n",
       "    <tr>\n",
       "      <th>1572453</th>\n",
       "      <td>d_1911</td>\n",
       "      <td>2016-04-22</td>\n",
       "      <td>Friday</td>\n",
       "      <td>FOODS_3_827_TX_3_validation</td>\n",
       "      <td>0</td>\n",
       "    </tr>\n",
       "    <tr>\n",
       "      <th>1573305</th>\n",
       "      <td>d_1912</td>\n",
       "      <td>2016-04-23</td>\n",
       "      <td>Saturday</td>\n",
       "      <td>FOODS_3_827_TX_3_validation</td>\n",
       "      <td>0</td>\n",
       "    </tr>\n",
       "    <tr>\n",
       "      <th>1574398</th>\n",
       "      <td>d_1913</td>\n",
       "      <td>2016-04-24</td>\n",
       "      <td>Sunday</td>\n",
       "      <td>FOODS_3_827_TX_3_validation</td>\n",
       "      <td>3</td>\n",
       "    </tr>\n",
       "  </tbody>\n",
       "</table>\n",
       "<p>1574399 rows × 5 columns</p>\n",
       "</div>"
      ],
      "text/plain": [
       "              d       date    weekday                           id  sales\n",
       "0           d_1 2011-01-29   Saturday  FOODS_3_001_TX_3_validation      0\n",
       "1093        d_2 2011-01-30     Sunday  FOODS_3_001_TX_3_validation      2\n",
       "1945        d_3 2011-01-31     Monday  FOODS_3_001_TX_3_validation      1\n",
       "2916        d_4 2011-02-01    Tuesday  FOODS_3_001_TX_3_validation      3\n",
       "3565        d_5 2011-02-02  Wednesday  FOODS_3_001_TX_3_validation      0\n",
       "...         ...        ...        ...                          ...    ...\n",
       "1570833  d_1909 2016-04-20  Wednesday  FOODS_3_827_TX_3_validation      0\n",
       "1571482  d_1910 2016-04-21   Thursday  FOODS_3_827_TX_3_validation      1\n",
       "1572453  d_1911 2016-04-22     Friday  FOODS_3_827_TX_3_validation      0\n",
       "1573305  d_1912 2016-04-23   Saturday  FOODS_3_827_TX_3_validation      0\n",
       "1574398  d_1913 2016-04-24     Sunday  FOODS_3_827_TX_3_validation      3\n",
       "\n",
       "[1574399 rows x 5 columns]"
      ]
     },
     "execution_count": 8,
     "metadata": {},
     "output_type": "execute_result"
    }
   ],
   "source": [
    "df = df.sort_values(by = ['id', 'date'])\n",
    "df1 = df1.sort_values(by = ['id', 'date'])\n",
    "df2 = df2.sort_values(by = ['id', 'date'])\n",
    "reduced = reduced.sort_values(by = ['id', 'date'])\n",
    "df"
   ]
  },
  {
   "cell_type": "markdown",
   "metadata": {},
   "source": [
    "# End of Data Import - Let's do EDA"
   ]
  },
  {
   "cell_type": "code",
   "execution_count": 6,
   "metadata": {},
   "outputs": [
    {
     "data": {
      "text/plain": [
       "[<matplotlib.lines.Line2D at 0x7fe70458ea10>]"
      ]
     },
     "execution_count": 6,
     "metadata": {},
     "output_type": "execute_result"
    },
    {
     "data": {
      "image/png": "[encoded data removed]",
      "text/plain": [
       "<Figure size 864x576 with 1 Axes>"
      ]
     },
     "metadata": {},
     "output_type": "display_data"
    }
   ],
   "source": [
    "plt.figure(figsize=(12,8))\n",
    "plt.plot(reduced[\"sales\"])"
   ]
  },
  {
   "cell_type": "code",
   "execution_count": null,
   "metadata": {},
   "outputs": [],
   "source": [
    "\n"
   ]
  },
  {
   "cell_type": "code",
   "execution_count": 9,
   "metadata": {},
   "outputs": [
    {
     "name": "stdout",
     "output_type": "stream",
     "text": [
      "<class 'str'>\n"
     ]
    }
   ],
   "source": [
    "names = np.unique(df['id'])\n",
    "print(type(names[0]))\n",
    "selected = names[0:1]\n",
    "\n",
    "small_df = df[df['id'].isin(selected)]\n",
    "small_df = small_df.sort_values(by = ['id', 'date'])"
   ]
  },
  {
   "cell_type": "code",
   "execution_count": 17,
   "metadata": {},
   "outputs": [
    {
     "data": {
      "text/html": [
       "<div>\n",
       "<style scoped>\n",
       "    .dataframe tbody tr th:only-of-type {\n",
       "        vertical-align: middle;\n",
       "    }\n",
       "\n",
       "    .dataframe tbody tr th {\n",
       "        vertical-align: top;\n",
       "    }\n",
       "\n",
       "    .dataframe thead th {\n",
       "        text-align: right;\n",
       "    }\n",
       "</style>\n",
       "<table border=\"1\" class=\"dataframe\">\n",
       "  <thead>\n",
       "    <tr style=\"text-align: right;\">\n",
       "      <th></th>\n",
       "      <th>d</th>\n",
       "      <th>date</th>\n",
       "      <th>weekday</th>\n",
       "      <th>id</th>\n",
       "      <th>sales</th>\n",
       "      <th>MONTH</th>\n",
       "      <th>DAY_OF_WEEK</th>\n",
       "      <th>DAY</th>\n",
       "    </tr>\n",
       "  </thead>\n",
       "  <tbody>\n",
       "    <tr>\n",
       "      <th>0</th>\n",
       "      <td>d_1</td>\n",
       "      <td>2011-01-29</td>\n",
       "      <td>Saturday</td>\n",
       "      <td>FOODS_3_001_TX_3_validation</td>\n",
       "      <td>0</td>\n",
       "      <td>1</td>\n",
       "      <td>5</td>\n",
       "      <td>29</td>\n",
       "    </tr>\n",
       "    <tr>\n",
       "      <th>1093</th>\n",
       "      <td>d_2</td>\n",
       "      <td>2011-01-30</td>\n",
       "      <td>Sunday</td>\n",
       "      <td>FOODS_3_001_TX_3_validation</td>\n",
       "      <td>2</td>\n",
       "      <td>1</td>\n",
       "      <td>6</td>\n",
       "      <td>30</td>\n",
       "    </tr>\n",
       "    <tr>\n",
       "      <th>1945</th>\n",
       "      <td>d_3</td>\n",
       "      <td>2011-01-31</td>\n",
       "      <td>Monday</td>\n",
       "      <td>FOODS_3_001_TX_3_validation</td>\n",
       "      <td>1</td>\n",
       "      <td>1</td>\n",
       "      <td>0</td>\n",
       "      <td>31</td>\n",
       "    </tr>\n",
       "    <tr>\n",
       "      <th>2916</th>\n",
       "      <td>d_4</td>\n",
       "      <td>2011-02-01</td>\n",
       "      <td>Tuesday</td>\n",
       "      <td>FOODS_3_001_TX_3_validation</td>\n",
       "      <td>3</td>\n",
       "      <td>2</td>\n",
       "      <td>1</td>\n",
       "      <td>1</td>\n",
       "    </tr>\n",
       "    <tr>\n",
       "      <th>3565</th>\n",
       "      <td>d_5</td>\n",
       "      <td>2011-02-02</td>\n",
       "      <td>Wednesday</td>\n",
       "      <td>FOODS_3_001_TX_3_validation</td>\n",
       "      <td>0</td>\n",
       "      <td>2</td>\n",
       "      <td>2</td>\n",
       "      <td>2</td>\n",
       "    </tr>\n",
       "    <tr>\n",
       "      <th>...</th>\n",
       "      <td>...</td>\n",
       "      <td>...</td>\n",
       "      <td>...</td>\n",
       "      <td>...</td>\n",
       "      <td>...</td>\n",
       "      <td>...</td>\n",
       "      <td>...</td>\n",
       "      <td>...</td>\n",
       "    </tr>\n",
       "    <tr>\n",
       "      <th>1570915</th>\n",
       "      <td>d_1909</td>\n",
       "      <td>2016-04-20</td>\n",
       "      <td>Wednesday</td>\n",
       "      <td>FOODS_3_001_TX_3_validation</td>\n",
       "      <td>0</td>\n",
       "      <td>4</td>\n",
       "      <td>2</td>\n",
       "      <td>20</td>\n",
       "    </tr>\n",
       "    <tr>\n",
       "      <th>1571320</th>\n",
       "      <td>d_1910</td>\n",
       "      <td>2016-04-21</td>\n",
       "      <td>Thursday</td>\n",
       "      <td>FOODS_3_001_TX_3_validation</td>\n",
       "      <td>0</td>\n",
       "      <td>4</td>\n",
       "      <td>3</td>\n",
       "      <td>21</td>\n",
       "    </tr>\n",
       "    <tr>\n",
       "      <th>1572292</th>\n",
       "      <td>d_1911</td>\n",
       "      <td>2016-04-22</td>\n",
       "      <td>Friday</td>\n",
       "      <td>FOODS_3_001_TX_3_validation</td>\n",
       "      <td>5</td>\n",
       "      <td>4</td>\n",
       "      <td>4</td>\n",
       "      <td>22</td>\n",
       "    </tr>\n",
       "    <tr>\n",
       "      <th>1573265</th>\n",
       "      <td>d_1912</td>\n",
       "      <td>2016-04-23</td>\n",
       "      <td>Saturday</td>\n",
       "      <td>FOODS_3_001_TX_3_validation</td>\n",
       "      <td>2</td>\n",
       "      <td>4</td>\n",
       "      <td>5</td>\n",
       "      <td>23</td>\n",
       "    </tr>\n",
       "    <tr>\n",
       "      <th>1574359</th>\n",
       "      <td>d_1913</td>\n",
       "      <td>2016-04-24</td>\n",
       "      <td>Sunday</td>\n",
       "      <td>FOODS_3_001_TX_3_validation</td>\n",
       "      <td>0</td>\n",
       "      <td>4</td>\n",
       "      <td>6</td>\n",
       "      <td>24</td>\n",
       "    </tr>\n",
       "  </tbody>\n",
       "</table>\n",
       "<p>1913 rows × 8 columns</p>\n",
       "</div>"
      ],
      "text/plain": [
       "              d       date    weekday                           id  sales  \\\n",
       "0           d_1 2011-01-29   Saturday  FOODS_3_001_TX_3_validation      0   \n",
       "1093        d_2 2011-01-30     Sunday  FOODS_3_001_TX_3_validation      2   \n",
       "1945        d_3 2011-01-31     Monday  FOODS_3_001_TX_3_validation      1   \n",
       "2916        d_4 2011-02-01    Tuesday  FOODS_3_001_TX_3_validation      3   \n",
       "3565        d_5 2011-02-02  Wednesday  FOODS_3_001_TX_3_validation      0   \n",
       "...         ...        ...        ...                          ...    ...   \n",
       "1570915  d_1909 2016-04-20  Wednesday  FOODS_3_001_TX_3_validation      0   \n",
       "1571320  d_1910 2016-04-21   Thursday  FOODS_3_001_TX_3_validation      0   \n",
       "1572292  d_1911 2016-04-22     Friday  FOODS_3_001_TX_3_validation      5   \n",
       "1573265  d_1912 2016-04-23   Saturday  FOODS_3_001_TX_3_validation      2   \n",
       "1574359  d_1913 2016-04-24     Sunday  FOODS_3_001_TX_3_validation      0   \n",
       "\n",
       "         MONTH  DAY_OF_WEEK  DAY  \n",
       "0            1            5   29  \n",
       "1093         1            6   30  \n",
       "1945         1            0   31  \n",
       "2916         2            1    1  \n",
       "3565         2            2    2  \n",
       "...        ...          ...  ...  \n",
       "1570915      4            2   20  \n",
       "1571320      4            3   21  \n",
       "1572292      4            4   22  \n",
       "1573265      4            5   23  \n",
       "1574359      4            6   24  \n",
       "\n",
       "[1913 rows x 8 columns]"
      ]
     },
     "execution_count": 17,
     "metadata": {},
     "output_type": "execute_result"
    }
   ],
   "source": [
    "small_ds = small_df['date']\n",
    "small_df['MONTH'] = small_ds.dt.month\n",
    "small_df['DAY_OF_WEEK'] = small_ds.dt.dayofweek\n",
    "small_df['DAY'] = small_ds.dt.day\n",
    "\n",
    "small_df"
   ]
  },
  {
   "cell_type": "code",
   "execution_count": 9,
   "metadata": {},
   "outputs": [],
   "source": [
    "piv_tab = small_df.pivot_table(index='date',columns='id',values='sales',aggfunc='sum')"
   ]
  },
  {
   "cell_type": "code",
   "execution_count": 10,
   "metadata": {},
   "outputs": [
    {
     "data": {
      "image/png": "[encoded data removed]",
      "text/plain": [
       "<Figure size 864x576 with 1 Axes>"
      ]
     },
     "metadata": {},
     "output_type": "display_data"
    }
   ],
   "source": [
    "plt.figure(figsize=(12,8))\n",
    "plt.plot(piv_tab)\n",
    "plt.show()"
   ]
  },
  {
   "cell_type": "code",
   "execution_count": null,
   "metadata": {},
   "outputs": [],
   "source": []
  },
  {
   "cell_type": "markdown",
   "metadata": {},
   "source": [
    "# Transition to Poisson Regression"
   ]
  },
  {
   "cell_type": "code",
   "execution_count": 20,
   "metadata": {},
   "outputs": [],
   "source": [
    "# Getting some additional data for the regression\n",
    "ds = df['date']\n",
    "df['MONTH'] = ds.dt.month\n",
    "df['DAY_OF_WEEK'] = ds.dt.dayofweek\n",
    "df['DAY'] = ds.dt.day\n",
    "\n",
    "\n",
    "ds1 = df1['date']\n",
    "df1['MONTH'] = ds.dt.month\n",
    "df1['DAY_OF_WEEK'] = ds1.dt.dayofweek\n",
    "df1['DAY'] = ds1.dt.day\n",
    "\n",
    "ds2 = df2['date']\n",
    "df2['MONTH'] = ds2.dt.month\n",
    "df2['DAY_OF_WEEK'] = ds2.dt.dayofweek\n",
    "df2['DAY'] = ds2.dt.day"
   ]
  },
  {
   "cell_type": "markdown",
   "metadata": {},
   "source": []
  },
  {
   "cell_type": "code",
   "execution_count": 21,
   "metadata": {},
   "outputs": [
    {
     "data": {
      "text/html": [
       "<div>\n",
       "<style scoped>\n",
       "    .dataframe tbody tr th:only-of-type {\n",
       "        vertical-align: middle;\n",
       "    }\n",
       "\n",
       "    .dataframe tbody tr th {\n",
       "        vertical-align: top;\n",
       "    }\n",
       "\n",
       "    .dataframe thead th {\n",
       "        text-align: right;\n",
       "    }\n",
       "</style>\n",
       "<table border=\"1\" class=\"dataframe\">\n",
       "  <thead>\n",
       "    <tr style=\"text-align: right;\">\n",
       "      <th></th>\n",
       "      <th>d</th>\n",
       "      <th>date</th>\n",
       "      <th>weekday</th>\n",
       "      <th>id</th>\n",
       "      <th>sales</th>\n",
       "      <th>MONTH</th>\n",
       "      <th>DAY_OF_WEEK</th>\n",
       "      <th>DAY</th>\n",
       "    </tr>\n",
       "  </thead>\n",
       "  <tbody>\n",
       "    <tr>\n",
       "      <th>0</th>\n",
       "      <td>d_1</td>\n",
       "      <td>2011-01-29</td>\n",
       "      <td>Saturday</td>\n",
       "      <td>FOODS_3_001_TX_3_validation</td>\n",
       "      <td>0</td>\n",
       "      <td>1</td>\n",
       "      <td>5</td>\n",
       "      <td>29</td>\n",
       "    </tr>\n",
       "    <tr>\n",
       "      <th>1093</th>\n",
       "      <td>d_2</td>\n",
       "      <td>2011-01-30</td>\n",
       "      <td>Sunday</td>\n",
       "      <td>FOODS_3_001_TX_3_validation</td>\n",
       "      <td>2</td>\n",
       "      <td>1</td>\n",
       "      <td>6</td>\n",
       "      <td>30</td>\n",
       "    </tr>\n",
       "    <tr>\n",
       "      <th>1945</th>\n",
       "      <td>d_3</td>\n",
       "      <td>2011-01-31</td>\n",
       "      <td>Monday</td>\n",
       "      <td>FOODS_3_001_TX_3_validation</td>\n",
       "      <td>1</td>\n",
       "      <td>1</td>\n",
       "      <td>0</td>\n",
       "      <td>31</td>\n",
       "    </tr>\n",
       "    <tr>\n",
       "      <th>2916</th>\n",
       "      <td>d_4</td>\n",
       "      <td>2011-02-01</td>\n",
       "      <td>Tuesday</td>\n",
       "      <td>FOODS_3_001_TX_3_validation</td>\n",
       "      <td>3</td>\n",
       "      <td>2</td>\n",
       "      <td>1</td>\n",
       "      <td>1</td>\n",
       "    </tr>\n",
       "    <tr>\n",
       "      <th>3565</th>\n",
       "      <td>d_5</td>\n",
       "      <td>2011-02-02</td>\n",
       "      <td>Wednesday</td>\n",
       "      <td>FOODS_3_001_TX_3_validation</td>\n",
       "      <td>0</td>\n",
       "      <td>2</td>\n",
       "      <td>2</td>\n",
       "      <td>2</td>\n",
       "    </tr>\n",
       "    <tr>\n",
       "      <th>...</th>\n",
       "      <td>...</td>\n",
       "      <td>...</td>\n",
       "      <td>...</td>\n",
       "      <td>...</td>\n",
       "      <td>...</td>\n",
       "      <td>...</td>\n",
       "      <td>...</td>\n",
       "      <td>...</td>\n",
       "    </tr>\n",
       "    <tr>\n",
       "      <th>1570833</th>\n",
       "      <td>d_1909</td>\n",
       "      <td>2016-04-20</td>\n",
       "      <td>Wednesday</td>\n",
       "      <td>FOODS_3_827_TX_3_validation</td>\n",
       "      <td>0</td>\n",
       "      <td>4</td>\n",
       "      <td>2</td>\n",
       "      <td>20</td>\n",
       "    </tr>\n",
       "    <tr>\n",
       "      <th>1571482</th>\n",
       "      <td>d_1910</td>\n",
       "      <td>2016-04-21</td>\n",
       "      <td>Thursday</td>\n",
       "      <td>FOODS_3_827_TX_3_validation</td>\n",
       "      <td>1</td>\n",
       "      <td>4</td>\n",
       "      <td>3</td>\n",
       "      <td>21</td>\n",
       "    </tr>\n",
       "    <tr>\n",
       "      <th>1572453</th>\n",
       "      <td>d_1911</td>\n",
       "      <td>2016-04-22</td>\n",
       "      <td>Friday</td>\n",
       "      <td>FOODS_3_827_TX_3_validation</td>\n",
       "      <td>0</td>\n",
       "      <td>4</td>\n",
       "      <td>4</td>\n",
       "      <td>22</td>\n",
       "    </tr>\n",
       "    <tr>\n",
       "      <th>1573305</th>\n",
       "      <td>d_1912</td>\n",
       "      <td>2016-04-23</td>\n",
       "      <td>Saturday</td>\n",
       "      <td>FOODS_3_827_TX_3_validation</td>\n",
       "      <td>0</td>\n",
       "      <td>4</td>\n",
       "      <td>5</td>\n",
       "      <td>23</td>\n",
       "    </tr>\n",
       "    <tr>\n",
       "      <th>1574398</th>\n",
       "      <td>d_1913</td>\n",
       "      <td>2016-04-24</td>\n",
       "      <td>Sunday</td>\n",
       "      <td>FOODS_3_827_TX_3_validation</td>\n",
       "      <td>3</td>\n",
       "      <td>4</td>\n",
       "      <td>6</td>\n",
       "      <td>24</td>\n",
       "    </tr>\n",
       "  </tbody>\n",
       "</table>\n",
       "<p>1574399 rows × 8 columns</p>\n",
       "</div>"
      ],
      "text/plain": [
       "              d       date    weekday                           id  sales  \\\n",
       "0           d_1 2011-01-29   Saturday  FOODS_3_001_TX_3_validation      0   \n",
       "1093        d_2 2011-01-30     Sunday  FOODS_3_001_TX_3_validation      2   \n",
       "1945        d_3 2011-01-31     Monday  FOODS_3_001_TX_3_validation      1   \n",
       "2916        d_4 2011-02-01    Tuesday  FOODS_3_001_TX_3_validation      3   \n",
       "3565        d_5 2011-02-02  Wednesday  FOODS_3_001_TX_3_validation      0   \n",
       "...         ...        ...        ...                          ...    ...   \n",
       "1570833  d_1909 2016-04-20  Wednesday  FOODS_3_827_TX_3_validation      0   \n",
       "1571482  d_1910 2016-04-21   Thursday  FOODS_3_827_TX_3_validation      1   \n",
       "1572453  d_1911 2016-04-22     Friday  FOODS_3_827_TX_3_validation      0   \n",
       "1573305  d_1912 2016-04-23   Saturday  FOODS_3_827_TX_3_validation      0   \n",
       "1574398  d_1913 2016-04-24     Sunday  FOODS_3_827_TX_3_validation      3   \n",
       "\n",
       "         MONTH  DAY_OF_WEEK  DAY  \n",
       "0            1            5   29  \n",
       "1093         1            6   30  \n",
       "1945         1            0   31  \n",
       "2916         2            1    1  \n",
       "3565         2            2    2  \n",
       "...        ...          ...  ...  \n",
       "1570833      4            2   20  \n",
       "1571482      4            3   21  \n",
       "1572453      4            4   22  \n",
       "1573305      4            5   23  \n",
       "1574398      4            6   24  \n",
       "\n",
       "[1574399 rows x 8 columns]"
      ]
     },
     "execution_count": 21,
     "metadata": {},
     "output_type": "execute_result"
    }
   ],
   "source": [
    "df"
   ]
  },
  {
   "cell_type": "code",
   "execution_count": null,
   "metadata": {},
   "outputs": [],
   "source": []
  },
  {
   "cell_type": "code",
   "execution_count": 22,
   "metadata": {},
   "outputs": [
    {
     "name": "stdout",
     "output_type": "stream",
     "text": [
      "Training data set length=1574399\n",
      "Testing data set length=23044\n"
     ]
    }
   ],
   "source": [
    "# old way\n",
    "#mask = np.random.rand(len(df)) < 0.8\n",
    "#df_train = df[mask]\n",
    "#df_test = df[~mask]\n",
    "\n",
    "# New way\n",
    "\n",
    "df_train = df\n",
    "df_test = df1\n",
    "print('Training data set length='+str(len(df_train)))\n",
    "print('Testing data set length='+str(len(df_test)))"
   ]
  },
  {
   "cell_type": "code",
   "execution_count": 36,
   "metadata": {},
   "outputs": [],
   "source": [
    "expr = \"\"\"sales ~ DAY +  MONTH\"\"\""
   ]
  },
  {
   "cell_type": "code",
   "execution_count": 37,
   "metadata": {},
   "outputs": [],
   "source": [
    "y_train, X_train = dmatrices(expr, df_train, return_type='dataframe')\n",
    "y_test, X_test = dmatrices(expr, df_test, return_type='dataframe')"
   ]
  },
  {
   "cell_type": "code",
   "execution_count": 38,
   "metadata": {},
   "outputs": [],
   "source": [
    "poisson_training_results = sm.GLM(y_train, X_train, family=sm.families.Poisson()).fit()"
   ]
  },
  {
   "cell_type": "code",
   "execution_count": 39,
   "metadata": {},
   "outputs": [
    {
     "name": "stdout",
     "output_type": "stream",
     "text": [
      "                 Generalized Linear Model Regression Results                  \n",
      "==============================================================================\n",
      "Dep. Variable:                  sales   No. Observations:              1574399\n",
      "Model:                            GLM   Df Residuals:                  1574396\n",
      "Model Family:                 Poisson   Df Model:                            2\n",
      "Link Function:                    log   Scale:                          1.0000\n",
      "Method:                          IRLS   Log-Likelihood:            -6.0515e+06\n",
      "Date:                Fri, 10 Dec 2021   Deviance:                   1.0370e+07\n",
      "Time:                        09:02:58   Pearson chi2:                 3.33e+07\n",
      "No. Iterations:                     6   Pseudo R-squ. (CS):           0.004442\n",
      "Covariance Type:            nonrobust                                         \n",
      "==============================================================================\n",
      "                 coef    std err          z      P>|z|      [0.025      0.975]\n",
      "------------------------------------------------------------------------------\n",
      "Intercept      0.7097      0.002    452.496      0.000       0.707       0.713\n",
      "DAY           -0.0054   6.57e-05    -82.149      0.000      -0.006      -0.005\n",
      "MONTH          0.0028      0.000     16.798      0.000       0.002       0.003\n",
      "==============================================================================\n"
     ]
    }
   ],
   "source": [
    "print(poisson_training_results.summary())"
   ]
  },
  {
   "cell_type": "code",
   "execution_count": 40,
   "metadata": {},
   "outputs": [
    {
     "name": "stdout",
     "output_type": "stream",
     "text": [
      "           mean   mean_se  mean_ci_lower  mean_ci_upper\n",
      "0      1.781548  0.002227       1.777188       1.785918\n",
      "1094   1.771952  0.002278       1.767493       1.776421\n",
      "2188   1.762407  0.002332       1.757843       1.766983\n",
      "3282   1.757837  0.002211       1.753509       1.762176\n",
      "3310   1.748369  0.002278       1.743910       1.752838\n",
      "...         ...       ...            ...            ...\n",
      "19733  1.855388  0.001765       1.851932       1.858851\n",
      "19761  1.845394  0.001783       1.841902       1.848893\n",
      "20855  1.835454  0.001809       1.831912       1.839003\n",
      "21949  1.825568  0.001841       1.821962       1.829180\n",
      "23043  1.815734  0.001880       1.812053       1.819423\n",
      "\n",
      "[23044 rows x 4 columns]\n"
     ]
    }
   ],
   "source": [
    "poisson_predictions = poisson_training_results.get_prediction(X_test)\n",
    "#summary_frame() returns a pandas DataFrame\n",
    "predictions_summary_frame = poisson_predictions.summary_frame()\n",
    "print(predictions_summary_frame)"
   ]
  },
  {
   "cell_type": "code",
   "execution_count": 41,
   "metadata": {},
   "outputs": [
    {
     "data": {
      "image/png": "[encoded data removed]",
      "text/plain": [
       "<Figure size 432x288 with 1 Axes>"
      ]
     },
     "metadata": {},
     "output_type": "display_data"
    }
   ],
   "source": [
    "predicted_counts=predictions_summary_frame['mean']\n",
    "actual_counts = y_test['sales']\n",
    "fig = plt.figure()\n",
    "fig.suptitle('Predicted versus actual bicyclist counts on the Brooklyn bridge')\n",
    "predicted, = plt.plot(X_test.index, predicted_counts, 'go-', label='Predicted counts')\n",
    "actual, = plt.plot(X_test.index, actual_counts, 'ro-', label='Actual counts')\n",
    "plt.legend(handles=[predicted, actual])\n",
    "plt.show()\n"
   ]
  },
  {
   "cell_type": "code",
   "execution_count": 42,
   "metadata": {},
   "outputs": [
    {
     "data": {
      "text/plain": [
       "<Figure size 432x288 with 0 Axes>"
      ]
     },
     "metadata": {},
     "output_type": "display_data"
    },
    {
     "data": {
      "image/png": "[encoded data removed]",
      "text/plain": [
       "<Figure size 432x288 with 1 Axes>"
      ]
     },
     "metadata": {},
     "output_type": "display_data"
    }
   ],
   "source": [
    "plt.clf()\n",
    "fig = plt.figure()\n",
    "fig.suptitle('Scatter plot of Actual versus Predicted counts')\n",
    "plt.scatter(x=predicted_counts, y=actual_counts, marker='.')\n",
    "plt.xlabel('Predicted counts')\n",
    "plt.ylabel('Actual counts')\n",
    "plt.show()"
   ]
  },
  {
   "cell_type": "code",
   "execution_count": null,
   "metadata": {},
   "outputs": [],
   "source": []
  },
  {
   "cell_type": "markdown",
   "metadata": {},
   "source": [
    "# Try to do it more simple - Small DF and also different function"
   ]
  },
  {
   "cell_type": "code",
   "execution_count": 12,
   "metadata": {},
   "outputs": [],
   "source": [
    "import pandas as pd\n",
    "import statsmodels.formula.api as smf\n",
    "from statsmodels.discrete.discrete_model import Poisson as psn"
   ]
  },
  {
   "cell_type": "code",
   "execution_count": 18,
   "metadata": {},
   "outputs": [
    {
     "name": "stdout",
     "output_type": "stream",
     "text": [
      "Warning: Maximum number of iterations has been exceeded.\n",
      "         Current function value: 0.767305\n",
      "         Iterations: 35\n"
     ]
    },
    {
     "name": "stderr",
     "output_type": "stream",
     "text": [
      "/opt/anaconda3/envs/python_env_37/lib/python3.7/site-packages/statsmodels/base/model.py:606: ConvergenceWarning: Maximum Likelihood optimization failed to converge. Check mle_retvals\n",
      "  ConvergenceWarning)\n"
     ]
    }
   ],
   "source": [
    "model2 = psn.from_formula(\"sales ~ weekday + DAY + MONTH + DAY_OF_WEEK\", data=small_df).fit()"
   ]
  },
  {
   "cell_type": "code",
   "execution_count": 19,
   "metadata": {},
   "outputs": [
    {
     "name": "stdout",
     "output_type": "stream",
     "text": [
      "                          Poisson Regression Results                          \n",
      "==============================================================================\n",
      "Dep. Variable:                  sales   No. Observations:                 1913\n",
      "Model:                        Poisson   Df Residuals:                     1903\n",
      "Method:                           MLE   Df Model:                            9\n",
      "Date:                Fri, 10 Dec 2021   Pseudo R-squ.:                 0.01884\n",
      "Time:                        08:48:09   Log-Likelihood:                -1467.9\n",
      "converged:                      False   LL-Null:                       -1496.0\n",
      "Covariance Type:            nonrobust   LLR p-value:                 6.688e-09\n",
      "========================================================================================\n",
      "                           coef    std err          z      P>|z|      [0.025      0.975]\n",
      "----------------------------------------------------------------------------------------\n",
      "Intercept               -1.0892   1.26e+06  -8.66e-07      1.000   -2.47e+06    2.47e+06\n",
      "weekday[T.Monday]        0.0038   1.26e+06   3.04e-09      1.000   -2.47e+06    2.47e+06\n",
      "weekday[T.Saturday]     -0.0891   3.15e+05  -2.83e-07      1.000   -6.17e+05    6.17e+05\n",
      "weekday[T.Sunday]        0.2468   6.29e+05   3.92e-07      1.000   -1.23e+06    1.23e+06\n",
      "weekday[T.Thursday]     -0.0106   3.15e+05  -3.36e-08      1.000   -6.17e+05    6.17e+05\n",
      "weekday[T.Tuesday]       0.5304   9.44e+05   5.62e-07      1.000   -1.85e+06    1.85e+06\n",
      "weekday[T.Wednesday]    -0.5456   6.29e+05  -8.67e-07      1.000   -1.23e+06    1.23e+06\n",
      "DAY                     -0.0027      0.005     -0.590      0.555      -0.012       0.006\n",
      "MONTH                   -0.0139      0.012     -1.202      0.229      -0.037       0.009\n",
      "DAY_OF_WEEK              0.0128   3.15e+05   4.06e-08      1.000   -6.17e+05    6.17e+05\n",
      "========================================================================================\n"
     ]
    }
   ],
   "source": [
    "print(model2.summary())"
   ]
  },
  {
   "cell_type": "code",
   "execution_count": null,
   "metadata": {},
   "outputs": [],
   "source": []
  },
  {
   "cell_type": "code",
   "execution_count": null,
   "metadata": {},
   "outputs": [],
   "source": []
  },
  {
   "cell_type": "code",
   "execution_count": null,
   "metadata": {},
   "outputs": [],
   "source": []
  },
  {
   "cell_type": "code",
   "execution_count": null,
   "metadata": {},
   "outputs": [],
   "source": []
  }
 ],
 "metadata": {
  "interpreter": {
   "hash": "8cdf8e27a6a01ad1cac13f7a3302b334775911623636020b5b45a311449ddcb2"
  },
  "kernelspec": {
   "display_name": "Python 3.7.11 64-bit ('python_env_37': conda)",
   "language": "python",
   "name": "python3"
  },
  "language_info": {
   "codemirror_mode": {
    "name": "ipython",
    "version": 3
   },
   "file_extension": ".py",
   "mimetype": "text/x-python",
   "name": "python",
   "nbconvert_exporter": "python",
   "pygments_lexer": "ipython3",
   "version": "3.7.11"
  },
  "orig_nbformat": 4
 },
 "nbformat": 4,
 "nbformat_minor": 2
}
