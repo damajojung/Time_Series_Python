{
 "cells": [
  {
   "cell_type": "markdown",
   "metadata": {},
   "source": [
    "# Poisson Regression for Competiton"
   ]
  },
  {
   "cell_type": "code",
   "execution_count": 4,
   "metadata": {},
   "outputs": [],
   "source": [
    "\n",
    "import numpy as np\n",
    "import matplotlib.pyplot as plt\n",
    "import pandas as pd\n",
    "import seaborn as sns\n",
    "from statsmodels.tsa.stattools import adfuller\n",
    "import statsmodels.api as sm\n",
    "from patsy import dmatrices\n",
    "plt.style.use(['ggplot'])"
   ]
  },
  {
   "cell_type": "code",
   "execution_count": 5,
   "metadata": {},
   "outputs": [
    {
     "name": "stdout",
     "output_type": "stream",
     "text": [
      "Unnamed: 0     int64\n",
      "d             object\n",
      "date          object\n",
      "weekday       object\n",
      "id            object\n",
      "sales          int64\n",
      "dtype: object\n"
     ]
    }
   ],
   "source": [
    "# load the dataset\n",
    "PATH = '/Users/dj/Documents/GitHub/Data/ts_forecast'\n",
    "df = pd.read_csv( PATH + '/df.csv') # Training data \n",
    "df1 = pd.read_csv( PATH + '/df1.csv') # Testing data\n",
    "df2 = pd.read_csv( PATH + '/df2.csv') # Complete data for Competition\n",
    "reduced = pd.read_csv( PATH + '/reduced.csv') #Only last month\n",
    "print(df.dtypes) # We can see that month is of type object, therefore it will be changed to datetime"
   ]
  },
  {
   "cell_type": "code",
   "execution_count": 6,
   "metadata": {},
   "outputs": [],
   "source": [
    "# For some strange reason, a new column is being added which will be removed \n",
    "df = df.drop(['Unnamed: 0'], axis=1)\n",
    "df1 = df1.drop(['Unnamed: 0'], axis=1)\n",
    "df2 = df2.drop(['Unnamed: 0'], axis=1)\n",
    "reduced = reduced.drop(['Unnamed: 0'], axis=1)"
   ]
  },
  {
   "cell_type": "code",
   "execution_count": 7,
   "metadata": {},
   "outputs": [
    {
     "name": "stdout",
     "output_type": "stream",
     "text": [
      "d                  object\n",
      "date       datetime64[ns]\n",
      "weekday            object\n",
      "id                 object\n",
      "sales               int64\n",
      "dtype: object\n"
     ]
    }
   ],
   "source": [
    "# Change the type object of date to date\n",
    "df['date'] = pd.to_datetime(df['date'])\n",
    "df1['date'] = pd.to_datetime(df1['date'])\n",
    "df2['date'] = pd.to_datetime(df2['date'])\n",
    "reduced['date'] = pd.to_datetime(reduced['date'])\n",
    "\n",
    "print(df.dtypes)"
   ]
  },
  {
   "cell_type": "code",
   "execution_count": 8,
   "metadata": {},
   "outputs": [
    {
     "data": {
      "text/html": [
       "<div>\n",
       "<style scoped>\n",
       "    .dataframe tbody tr th:only-of-type {\n",
       "        vertical-align: middle;\n",
       "    }\n",
       "\n",
       "    .dataframe tbody tr th {\n",
       "        vertical-align: top;\n",
       "    }\n",
       "\n",
       "    .dataframe thead th {\n",
       "        text-align: right;\n",
       "    }\n",
       "</style>\n",
       "<table border=\"1\" class=\"dataframe\">\n",
       "  <thead>\n",
       "    <tr style=\"text-align: right;\">\n",
       "      <th></th>\n",
       "      <th>d</th>\n",
       "      <th>date</th>\n",
       "      <th>weekday</th>\n",
       "      <th>id</th>\n",
       "      <th>sales</th>\n",
       "    </tr>\n",
       "  </thead>\n",
       "  <tbody>\n",
       "    <tr>\n",
       "      <th>0</th>\n",
       "      <td>d_1</td>\n",
       "      <td>2011-01-29</td>\n",
       "      <td>Saturday</td>\n",
       "      <td>FOODS_3_001_TX_3_validation</td>\n",
       "      <td>0</td>\n",
       "    </tr>\n",
       "    <tr>\n",
       "      <th>1093</th>\n",
       "      <td>d_2</td>\n",
       "      <td>2011-01-30</td>\n",
       "      <td>Sunday</td>\n",
       "      <td>FOODS_3_001_TX_3_validation</td>\n",
       "      <td>2</td>\n",
       "    </tr>\n",
       "    <tr>\n",
       "      <th>1945</th>\n",
       "      <td>d_3</td>\n",
       "      <td>2011-01-31</td>\n",
       "      <td>Monday</td>\n",
       "      <td>FOODS_3_001_TX_3_validation</td>\n",
       "      <td>1</td>\n",
       "    </tr>\n",
       "    <tr>\n",
       "      <th>2916</th>\n",
       "      <td>d_4</td>\n",
       "      <td>2011-02-01</td>\n",
       "      <td>Tuesday</td>\n",
       "      <td>FOODS_3_001_TX_3_validation</td>\n",
       "      <td>3</td>\n",
       "    </tr>\n",
       "    <tr>\n",
       "      <th>3565</th>\n",
       "      <td>d_5</td>\n",
       "      <td>2011-02-02</td>\n",
       "      <td>Wednesday</td>\n",
       "      <td>FOODS_3_001_TX_3_validation</td>\n",
       "      <td>0</td>\n",
       "    </tr>\n",
       "    <tr>\n",
       "      <th>...</th>\n",
       "      <td>...</td>\n",
       "      <td>...</td>\n",
       "      <td>...</td>\n",
       "      <td>...</td>\n",
       "      <td>...</td>\n",
       "    </tr>\n",
       "    <tr>\n",
       "      <th>1570833</th>\n",
       "      <td>d_1909</td>\n",
       "      <td>2016-04-20</td>\n",
       "      <td>Wednesday</td>\n",
       "      <td>FOODS_3_827_TX_3_validation</td>\n",
       "      <td>0</td>\n",
       "    </tr>\n",
       "    <tr>\n",
       "      <th>1571482</th>\n",
       "      <td>d_1910</td>\n",
       "      <td>2016-04-21</td>\n",
       "      <td>Thursday</td>\n",
       "      <td>FOODS_3_827_TX_3_validation</td>\n",
       "      <td>1</td>\n",
       "    </tr>\n",
       "    <tr>\n",
       "      <th>1572453</th>\n",
       "      <td>d_1911</td>\n",
       "      <td>2016-04-22</td>\n",
       "      <td>Friday</td>\n",
       "      <td>FOODS_3_827_TX_3_validation</td>\n",
       "      <td>0</td>\n",
       "    </tr>\n",
       "    <tr>\n",
       "      <th>1573305</th>\n",
       "      <td>d_1912</td>\n",
       "      <td>2016-04-23</td>\n",
       "      <td>Saturday</td>\n",
       "      <td>FOODS_3_827_TX_3_validation</td>\n",
       "      <td>0</td>\n",
       "    </tr>\n",
       "    <tr>\n",
       "      <th>1574398</th>\n",
       "      <td>d_1913</td>\n",
       "      <td>2016-04-24</td>\n",
       "      <td>Sunday</td>\n",
       "      <td>FOODS_3_827_TX_3_validation</td>\n",
       "      <td>3</td>\n",
       "    </tr>\n",
       "  </tbody>\n",
       "</table>\n",
       "<p>1574399 rows × 5 columns</p>\n",
       "</div>"
      ],
      "text/plain": [
       "              d       date    weekday                           id  sales\n",
       "0           d_1 2011-01-29   Saturday  FOODS_3_001_TX_3_validation      0\n",
       "1093        d_2 2011-01-30     Sunday  FOODS_3_001_TX_3_validation      2\n",
       "1945        d_3 2011-01-31     Monday  FOODS_3_001_TX_3_validation      1\n",
       "2916        d_4 2011-02-01    Tuesday  FOODS_3_001_TX_3_validation      3\n",
       "3565        d_5 2011-02-02  Wednesday  FOODS_3_001_TX_3_validation      0\n",
       "...         ...        ...        ...                          ...    ...\n",
       "1570833  d_1909 2016-04-20  Wednesday  FOODS_3_827_TX_3_validation      0\n",
       "1571482  d_1910 2016-04-21   Thursday  FOODS_3_827_TX_3_validation      1\n",
       "1572453  d_1911 2016-04-22     Friday  FOODS_3_827_TX_3_validation      0\n",
       "1573305  d_1912 2016-04-23   Saturday  FOODS_3_827_TX_3_validation      0\n",
       "1574398  d_1913 2016-04-24     Sunday  FOODS_3_827_TX_3_validation      3\n",
       "\n",
       "[1574399 rows x 5 columns]"
      ]
     },
     "execution_count": 8,
     "metadata": {},
     "output_type": "execute_result"
    }
   ],
   "source": [
    "df = df.sort_values(by = ['id', 'date'])\n",
    "df1 = df1.sort_values(by = ['id', 'date'])\n",
    "df2 = df2.sort_values(by = ['id', 'date'])\n",
    "reduced = reduced.sort_values(by = ['id', 'date'])\n",
    "df"
   ]
  },
  {
   "cell_type": "markdown",
   "metadata": {},
   "source": [
    "# End of Data Import - Let's do EDA"
   ]
  },
  {
   "cell_type": "code",
   "execution_count": 6,
   "metadata": {},
   "outputs": [
    {
     "data": {
      "text/plain": [
       "[<matplotlib.lines.Line2D at 0x7fe70458ea10>]"
      ]
     },
     "execution_count": 6,
     "metadata": {},
     "output_type": "execute_result"
    },
    {
     "data": {
      "image/png": "[encoded data removed]",
      "text/plain": [
       "<Figure size 864x576 with 1 Axes>"
      ]
     },
     "metadata": {},
     "output_type": "display_data"
    }
   ],
   "source": [
    "plt.figure(figsize=(12,8))\n",
    "plt.plot(reduced[\"sales\"])"
   ]
  },
  {
   "cell_type": "code",
   "execution_count": null,
   "metadata": {},
   "outputs": [],
   "source": [
    "\n"
   ]
  },
  {
   "cell_type": "code",
   "execution_count": 9,
   "metadata": {},
   "outputs": [
    {
     "name": "stdout",
     "output_type": "stream",
     "text": [
      "<class 'str'>\n"
     ]
    }
   ],
   "source": [
    "names = np.unique(df['id'])\n",
    "print(type(names[0]))\n",
    "selected = names[0:1]\n",
    "\n",
    "small_df = df[df['id'].isin(selected)]\n",
    "small_df = small_df.sort_values(by = ['id', 'date'])"
   ]
  },
  {
   "cell_type": "code",
   "execution_count": 17,
   "metadata": {},
   "outputs": [
    {
     "data": {
      "text/html": [
       "<div>\n",
       "<style scoped>\n",
       "    .dataframe tbody tr th:only-of-type {\n",
       "        vertical-align: middle;\n",
       "    }\n",
       "\n",
       "    .dataframe tbody tr th {\n",
       "        vertical-align: top;\n",
       "    }\n",
       "\n",
       "    .dataframe thead th {\n",
       "        text-align: right;\n",
       "    }\n",
       "</style>\n",
       "<table border=\"1\" class=\"dataframe\">\n",
       "  <thead>\n",
       "    <tr style=\"text-align: right;\">\n",
       "      <th></th>\n",
       "      <th>d</th>\n",
       "      <th>date</th>\n",
       "      <th>weekday</th>\n",
       "      <th>id</th>\n",
       "      <th>sales</th>\n",
       "      <th>MONTH</th>\n",
       "      <th>DAY_OF_WEEK</th>\n",
       "      <th>DAY</th>\n",
       "    </tr>\n",
       "  </thead>\n",
       "  <tbody>\n",
       "    <tr>\n",
       "      <th>0</th>\n",
       "      <td>d_1</td>\n",
       "      <td>2011-01-29</td>\n",
       "      <td>Saturday</td>\n",
       "      <td>FOODS_3_001_TX_3_validation</td>\n",
       "      <td>0</td>\n",
       "      <td>1</td>\n",
       "      <td>5</td>\n",
       "      <td>29</td>\n",
       "    </tr>\n",
       "    <tr>\n",
       "      <th>1093</th>\n",
       "      <td>d_2</td>\n",
       "      <td>2011-01-30</td>\n",
       "      <td>Sunday</td>\n",
       "      <td>FOODS_3_001_TX_3_validation</td>\n",
       "      <td>2</td>\n",
       "      <td>1</td>\n",
       "      <td>6</td>\n",
       "      <td>30</td>\n",
       "    </tr>\n",
       "    <tr>\n",
       "      <th>1945</th>\n",
       "      <td>d_3</td>\n",
       "      <td>2011-01-31</td>\n",
       "      <td>Monday</td>\n",
       "      <td>FOODS_3_001_TX_3_validation</td>\n",
       "      <td>1</td>\n",
       "      <td>1</td>\n",
       "      <td>0</td>\n",
       "      <td>31</td>\n",
       "    </tr>\n",
       "    <tr>\n",
       "      <th>2916</th>\n",
       "      <td>d_4</td>\n",
       "      <td>2011-02-01</td>\n",
       "      <td>Tuesday</td>\n",
       "      <td>FOODS_3_001_TX_3_validation</td>\n",
       "      <td>3</td>\n",
       "      <td>2</td>\n",
       "      <td>1</td>\n",
       "      <td>1</td>\n",
       "    </tr>\n",
       "    <tr>\n",
       "      <th>3565</th>\n",
       "      <td>d_5</td>\n",
       "      <td>2011-02-02</td>\n",
       "      <td>Wednesday</td>\n",
       "      <td>FOODS_3_001_TX_3_validation</td>\n",
       "      <td>0</td>\n",
       "      <td>2</td>\n",
       "      <td>2</td>\n",
       "      <td>2</td>\n",
       "    </tr>\n",
       "    <tr>\n",
       "      <th>...</th>\n",
       "      <td>...</td>\n",
       "      <td>...</td>\n",
       "      <td>...</td>\n",
       "      <td>...</td>\n",
       "      <td>...</td>\n",
       "      <td>...</td>\n",
       "      <td>...</td>\n",
       "      <td>...</td>\n",
       "    </tr>\n",
       "    <tr>\n",
       "      <th>1570915</th>\n",
       "      <td>d_1909</td>\n",
       "      <td>2016-04-20</td>\n",
       "      <td>Wednesday</td>\n",
       "      <td>FOODS_3_001_TX_3_validation</td>\n",
       "      <td>0</td>\n",
       "      <td>4</td>\n",
       "      <td>2</td>\n",
       "      <td>20</td>\n",
       "    </tr>\n",
       "    <tr>\n",
       "      <th>1571320</th>\n",
       "      <td>d_1910</td>\n",
       "      <td>2016-04-21</td>\n",
       "      <td>Thursday</td>\n",
       "      <td>FOODS_3_001_TX_3_validation</td>\n",
       "      <td>0</td>\n",
       "      <td>4</td>\n",
       "      <td>3</td>\n",
       "      <td>21</td>\n",
       "    </tr>\n",
       "    <tr>\n",
       "      <th>1572292</th>\n",
       "      <td>d_1911</td>\n",
       "      <td>2016-04-22</td>\n",
       "      <td>Friday</td>\n",
       "      <td>FOODS_3_001_TX_3_validation</td>\n",
       "      <td>5</td>\n",
       "      <td>4</td>\n",
       "      <td>4</td>\n",
       "      <td>22</td>\n",
       "    </tr>\n",
       "    <tr>\n",
       "      <th>1573265</th>\n",
       "      <td>d_1912</td>\n",
       "      <td>2016-04-23</td>\n",
       "      <td>Saturday</td>\n",
       "      <td>FOODS_3_001_TX_3_validation</td>\n",
       "      <td>2</td>\n",
       "      <td>4</td>\n",
       "      <td>5</td>\n",
       "      <td>23</td>\n",
       "    </tr>\n",
       "    <tr>\n",
       "      <th>1574359</th>\n",
       "      <td>d_1913</td>\n",
       "      <td>2016-04-24</td>\n",
       "      <td>Sunday</td>\n",
       "      <td>FOODS_3_001_TX_3_validation</td>\n",
       "      <td>0</td>\n",
       "      <td>4</td>\n",
       "      <td>6</td>\n",
       "      <td>24</td>\n",
       "    </tr>\n",
       "  </tbody>\n",
       "</table>\n",
       "<p>1913 rows × 8 columns</p>\n",
       "</div>"
      ],
      "text/plain": [
       "              d       date    weekday                           id  sales  \\\n",
       "0           d_1 2011-01-29   Saturday  FOODS_3_001_TX_3_validation      0   \n",
       "1093        d_2 2011-01-30     Sunday  FOODS_3_001_TX_3_validation      2   \n",
       "1945        d_3 2011-01-31     Monday  FOODS_3_001_TX_3_validation      1   \n",
       "2916        d_4 2011-02-01    Tuesday  FOODS_3_001_TX_3_validation      3   \n",
       "3565        d_5 2011-02-02  Wednesday  FOODS_3_001_TX_3_validation      0   \n",
       "...         ...        ...        ...                          ...    ...   \n",
       "1570915  d_1909 2016-04-20  Wednesday  FOODS_3_001_TX_3_validation      0   \n",
       "1571320  d_1910 2016-04-21   Thursday  FOODS_3_001_TX_3_validation      0   \n",
       "1572292  d_1911 2016-04-22     Friday  FOODS_3_001_TX_3_validation      5   \n",
       "1573265  d_1912 2016-04-23   Saturday  FOODS_3_001_TX_3_validation      2   \n",
       "1574359  d_1913 2016-04-24     Sunday  FOODS_3_001_TX_3_validation      0   \n",
       "\n",
       "         MONTH  DAY_OF_WEEK  DAY  \n",
       "0            1            5   29  \n",
       "1093         1            6   30  \n",
       "1945         1            0   31  \n",
       "2916         2            1    1  \n",
       "3565         2            2    2  \n",
       "...        ...          ...  ...  \n",
       "1570915      4            2   20  \n",
       "1571320      4            3   21  \n",
       "1572292      4            4   22  \n",
       "1573265      4            5   23  \n",
       "1574359      4            6   24  \n",
       "\n",
       "[1913 rows x 8 columns]"
      ]
     },
     "execution_count": 17,
     "metadata": {},
     "output_type": "execute_result"
    }
   ],
   "source": [
    "small_ds = small_df['date']\n",
    "small_df['MONTH'] = small_ds.dt.month\n",
    "small_df['DAY_OF_WEEK'] = small_ds.dt.dayofweek\n",
    "small_df['DAY'] = small_ds.dt.day\n",
    "\n",
    "small_df"
   ]
  },
  {
   "cell_type": "code",
   "execution_count": 9,
   "metadata": {},
   "outputs": [],
   "source": [
    "piv_tab = small_df.pivot_table(index='date',columns='id',values='sales',aggfunc='sum')"
   ]
  },
  {
   "cell_type": "code",
   "execution_count": 10,
   "metadata": {},
   "outputs": [
    {
     "data": {
      "image/png": "[encoded data removed]",
      "text/plain": [
       "<Figure size 864x576 with 1 Axes>"
      ]
     },
     "metadata": {},
     "output_type": "display_data"
    }
   ],
   "source": [
    "plt.figure(figsize=(12,8))\n",
    "plt.plot(piv_tab)\n",
    "plt.show()"
   ]
  },
  {
   "cell_type": "code",
   "execution_count": null,
   "metadata": {},
   "outputs": [],
   "source": []
  },
  {
   "cell_type": "markdown",
   "metadata": {},
   "source": [
    "# Transition to Poisson Regression"
   ]
  },
  {
   "cell_type": "code",
   "execution_count": 20,
   "metadata": {},
   "outputs": [],
   "source": [
    "# Getting some additional data for the regression\n",
    "ds = df['date']\n",
    "df['MONTH'] = ds.dt.month\n",
    "df['DAY_OF_WEEK'] = ds.dt.dayofweek\n",
    "df['DAY'] = ds.dt.day\n",
    "\n",
    "\n",
    "ds1 = df1['date']\n",
    "df1['MONTH'] = ds.dt.month\n",
    "df1['DAY_OF_WEEK'] = ds1.dt.dayofweek\n",
    "df1['DAY'] = ds1.dt.day\n",
    "\n",
    "ds2 = df2['date']\n",
    "df2['MONTH'] = ds2.dt.month\n",
    "df2['DAY_OF_WEEK'] = ds2.dt.dayofweek\n",
    "df2['DAY'] = ds2.dt.day"
   ]
  },
  {
   "cell_type": "markdown",
   "metadata": {},
   "source": []
  },
  {
   "cell_type": "code",
   "execution_count": 21,
   "metadata": {},
   "outputs": [
    {
     "data": {
      "text/html": [
       "<div>\n",
       "<style scoped>\n",
       "    .dataframe tbody tr th:only-of-type {\n",
       "        vertical-align: middle;\n",
       "    }\n",
       "\n",
       "    .dataframe tbody tr th {\n",
       "        vertical-align: top;\n",
       "    }\n",
       "\n",
       "    .dataframe thead th {\n",
       "        text-align: right;\n",
       "    }\n",
       "</style>\n",
       "<table border=\"1\" class=\"dataframe\">\n",
       "  <thead>\n",
       "    <tr style=\"text-align: right;\">\n",
       "      <th></th>\n",
       "      <th>d</th>\n",
       "      <th>date</th>\n",
       "      <th>weekday</th>\n",
       "      <th>id</th>\n",
       "      <th>sales</th>\n",
       "      <th>MONTH</th>\n",
       "      <th>DAY_OF_WEEK</th>\n",
       "      <th>DAY</th>\n",
       "    </tr>\n",
       "  </thead>\n",
       "  <tbody>\n",
       "    <tr>\n",
       "      <th>0</th>\n",
       "      <td>d_1</td>\n",
       "      <td>2011-01-29</td>\n",
       "      <td>Saturday</td>\n",
       "      <td>FOODS_3_001_TX_3_validation</td>\n",
       "      <td>0</td>\n",
       "      <td>1</td>\n",
       "      <td>5</td>\n",
       "      <td>29</td>\n",
       "    </tr>\n",
       "    <tr>\n",
       "      <th>1093</th>\n",
       "      <td>d_2</td>\n",
       "      <td>2011-01-30</td>\n",
       "      <td>Sunday</td>\n",
       "      <td>FOODS_3_001_TX_3_validation</td>\n",
       "      <td>2</td>\n",
       "      <td>1</td>\n",
       "      <td>6</td>\n",
       "      <td>30</td>\n",
       "    </tr>\n",
       "    <tr>\n",
       "      <th>1945</th>\n",
       "      <td>d_3</td>\n",
       "      <td>2011-01-31</td>\n",
       "      <td>Monday</td>\n",
       "      <td>FOODS_3_001_TX_3_validation</td>\n",
       "      <td>1</td>\n",
       "      <td>1</td>\n",
       "      <td>0</td>\n",
       "      <td>31</td>\n",
       "    </tr>\n",
       "    <tr>\n",
       "      <th>2916</th>\n",
       "      <td>d_4</td>\n",
       "      <td>2011-02-01</td>\n",
       "      <td>Tuesday</td>\n",
       "      <td>FOODS_3_001_TX_3_validation</td>\n",
       "      <td>3</td>\n",
       "      <td>2</td>\n",
       "      <td>1</td>\n",
       "      <td>1</td>\n",
       "    </tr>\n",
       "    <tr>\n",
       "      <th>3565</th>\n",
       "      <td>d_5</td>\n",
       "      <td>2011-02-02</td>\n",
       "      <td>Wednesday</td>\n",
       "      <td>FOODS_3_001_TX_3_validation</td>\n",
       "      <td>0</td>\n",
       "      <td>2</td>\n",
       "      <td>2</td>\n",
       "      <td>2</td>\n",
       "    </tr>\n",
       "    <tr>\n",
       "      <th>...</th>\n",
       "      <td>...</td>\n",
       "      <td>...</td>\n",
       "      <td>...</td>\n",
       "      <td>...</td>\n",
       "      <td>...</td>\n",
       "      <td>...</td>\n",
       "      <td>...</td>\n",
       "      <td>...</td>\n",
       "    </tr>\n",
       "    <tr>\n",
       "      <th>1570833</th>\n",
       "      <td>d_1909</td>\n",
       "      <td>2016-04-20</td>\n",
       "      <td>Wednesday</td>\n",
       "      <td>FOODS_3_827_TX_3_validation</td>\n",
       "      <td>0</td>\n",
       "      <td>4</td>\n",
       "      <td>2</td>\n",
       "      <td>20</td>\n",
       "    </tr>\n",
       "    <tr>\n",
       "      <th>1571482</th>\n",
       "      <td>d_1910</td>\n",
       "      <td>2016-04-21</td>\n",
       "      <td>Thursday</td>\n",
       "      <td>FOODS_3_827_TX_3_validation</td>\n",
       "      <td>1</td>\n",
       "      <td>4</td>\n",
       "      <td>3</td>\n",
       "      <td>21</td>\n",
       "    </tr>\n",
       "    <tr>\n",
       "      <th>1572453</th>\n",
       "      <td>d_1911</td>\n",
       "      <td>2016-04-22</td>\n",
       "      <td>Friday</td>\n",
       "      <td>FOODS_3_827_TX_3_validation</td>\n",
       "      <td>0</td>\n",
       "      <td>4</td>\n",
       "      <td>4</td>\n",
       "      <td>22</td>\n",
       "    </tr>\n",
       "    <tr>\n",
       "      <th>1573305</th>\n",
       "      <td>d_1912</td>\n",
       "      <td>2016-04-23</td>\n",
       "      <td>Saturday</td>\n",
       "      <td>FOODS_3_827_TX_3_validation</td>\n",
       "      <td>0</td>\n",
       "      <td>4</td>\n",
       "      <td>5</td>\n",
       "      <td>23</td>\n",
       "    </tr>\n",
       "    <tr>\n",
       "      <th>1574398</th>\n",
       "      <td>d_1913</td>\n",
       "      <td>2016-04-24</td>\n",
       "      <td>Sunday</td>\n",
       "      <td>FOODS_3_827_TX_3_validation</td>\n",
       "      <td>3</td>\n",
       "      <td>4</td>\n",
       "      <td>6</td>\n",
       "      <td>24</td>\n",
       "    </tr>\n",
       "  </tbody>\n",
       "</table>\n",
       "<p>1574399 rows × 8 columns</p>\n",
       "</div>"
      ],
      "text/plain": [
       "              d       date    weekday                           id  sales  \\\n",
       "0           d_1 2011-01-29   Saturday  FOODS_3_001_TX_3_validation      0   \n",
       "1093        d_2 2011-01-30     Sunday  FOODS_3_001_TX_3_validation      2   \n",
       "1945        d_3 2011-01-31     Monday  FOODS_3_001_TX_3_validation      1   \n",
       "2916        d_4 2011-02-01    Tuesday  FOODS_3_001_TX_3_validation      3   \n",
       "3565        d_5 2011-02-02  Wednesday  FOODS_3_001_TX_3_validation      0   \n",
       "...         ...        ...        ...                          ...    ...   \n",
       "1570833  d_1909 2016-04-20  Wednesday  FOODS_3_827_TX_3_validation      0   \n",
       "1571482  d_1910 2016-04-21   Thursday  FOODS_3_827_TX_3_validation      1   \n",
       "1572453  d_1911 2016-04-22     Friday  FOODS_3_827_TX_3_validation      0   \n",
       "1573305  d_1912 2016-04-23   Saturday  FOODS_3_827_TX_3_validation      0   \n",
       "1574398  d_1913 2016-04-24     Sunday  FOODS_3_827_TX_3_validation      3   \n",
       "\n",
       "         MONTH  DAY_OF_WEEK  DAY  \n",
       "0            1            5   29  \n",
       "1093         1            6   30  \n",
       "1945         1            0   31  \n",
       "2916         2            1    1  \n",
       "3565         2            2    2  \n",
       "...        ...          ...  ...  \n",
       "1570833      4            2   20  \n",
       "1571482      4            3   21  \n",
       "1572453      4            4   22  \n",
       "1573305      4            5   23  \n",
       "1574398      4            6   24  \n",
       "\n",
       "[1574399 rows x 8 columns]"
      ]
     },
     "execution_count": 21,
     "metadata": {},
     "output_type": "execute_result"
    }
   ],
   "source": [
    "df"
   ]
  },
  {
   "cell_type": "code",
   "execution_count": null,
   "metadata": {},
   "outputs": [],
   "source": []
  },
  {
   "cell_type": "code",
   "execution_count": 43,
   "metadata": {},
   "outputs": [
    {
     "name": "stdout",
     "output_type": "stream",
     "text": [
      "Training data set length=1531\n",
      "Testing data set length=382\n"
     ]
    }
   ],
   "source": [
    "# old way\n",
    "mask = np.random.rand(len(small_df)) < 0.8\n",
    "df_train = small_df[mask]\n",
    "df_test = small_df[~mask]\n",
    "\n",
    "# New way\n",
    "\n",
    "#df_train = df\n",
    "#df_test = df1\n",
    "print('Training data set length='+str(len(df_train)))\n",
    "print('Testing data set length='+str(len(df_test)))"
   ]
  },
  {
   "cell_type": "code",
   "execution_count": 44,
   "metadata": {},
   "outputs": [],
   "source": [
    "expr = \"\"\"sales ~ DAY +  MONTH\"\"\""
   ]
  },
  {
   "cell_type": "code",
   "execution_count": 45,
   "metadata": {},
   "outputs": [],
   "source": [
    "y_train, X_train = dmatrices(expr, df_train, return_type='dataframe')\n",
    "y_test, X_test = dmatrices(expr, df_test, return_type='dataframe')"
   ]
  },
  {
   "cell_type": "code",
   "execution_count": 46,
   "metadata": {},
   "outputs": [],
   "source": [
    "poisson_training_results = sm.GLM(y_train, X_train, family=sm.families.Poisson()).fit()"
   ]
  },
  {
   "cell_type": "code",
   "execution_count": 47,
   "metadata": {},
   "outputs": [
    {
     "name": "stdout",
     "output_type": "stream",
     "text": [
      "                 Generalized Linear Model Regression Results                  \n",
      "==============================================================================\n",
      "Dep. Variable:                  sales   No. Observations:                 1531\n",
      "Model:                            GLM   Df Residuals:                     1528\n",
      "Model Family:                 Poisson   Df Model:                            2\n",
      "Link Function:                    log   Scale:                          1.0000\n",
      "Method:                          IRLS   Log-Likelihood:                -1229.3\n",
      "Date:                Fri, 10 Dec 2021   Deviance:                       1653.6\n",
      "Time:                        09:06:13   Pearson chi2:                 2.50e+03\n",
      "No. Iterations:                     5   Pseudo R-squ. (CS):           0.001376\n",
      "Covariance Type:            nonrobust                                         \n",
      "==============================================================================\n",
      "                 coef    std err          z      P>|z|      [0.025      0.975]\n",
      "------------------------------------------------------------------------------\n",
      "Intercept     -0.9155      0.117     -7.829      0.000      -1.145      -0.686\n",
      "DAY           -0.0059      0.005     -1.179      0.238      -0.016       0.004\n",
      "MONTH         -0.0105      0.013     -0.828      0.408      -0.035       0.014\n",
      "==============================================================================\n"
     ]
    }
   ],
   "source": [
    "print(poisson_training_results.summary())"
   ]
  },
  {
   "cell_type": "code",
   "execution_count": 48,
   "metadata": {},
   "outputs": [
    {
     "name": "stdout",
     "output_type": "stream",
     "text": [
      "             mean   mean_se  mean_ci_lower  mean_ci_upper\n",
      "8386     0.373965  0.028892       0.321416       0.435106\n",
      "12639    0.363124  0.025226       0.316900       0.416090\n",
      "13611    0.360993  0.024871       0.315394       0.413185\n",
      "20214    0.344395  0.026469       0.296235       0.400384\n",
      "30137    0.374427  0.028037       0.323319       0.433615\n",
      "...           ...       ...            ...            ...\n",
      "1546092  0.342797  0.022712       0.301052       0.390332\n",
      "1551889  0.328966  0.028787       0.277117       0.390514\n",
      "1563413  0.359763  0.020034       0.322564       0.401252\n",
      "1567670  0.349333  0.018103       0.315594       0.386680\n",
      "1569008  0.345246  0.018489       0.310845       0.383455\n",
      "\n",
      "[382 rows x 4 columns]\n"
     ]
    }
   ],
   "source": [
    "poisson_predictions = poisson_training_results.get_prediction(X_test)\n",
    "#summary_frame() returns a pandas DataFrame\n",
    "predictions_summary_frame = poisson_predictions.summary_frame()\n",
    "print(predictions_summary_frame)"
   ]
  },
  {
   "cell_type": "code",
   "execution_count": 58,
   "metadata": {},
   "outputs": [
    {
     "data": {
      "image/png": "[encoded data removed]",
      "text/plain": [
       "<Figure size 1080x720 with 1 Axes>"
      ]
     },
     "metadata": {},
     "output_type": "display_data"
    }
   ],
   "source": [
    "predicted_counts=predictions_summary_frame['mean']\n",
    "actual_counts = y_test['sales']\n",
    "fig = plt.figure(figsize=(15,10))\n",
    "fig.suptitle('Predicted versus actual sold items')\n",
    "predicted, = plt.plot(X_test.index, predicted_counts, 'go-', label='Predicted counts')\n",
    "actual, = plt.plot(X_test.index, actual_counts, 'ro-', label='Actual counts')\n",
    "plt.legend(handles=[predicted, actual])\n",
    "plt.show()\n"
   ]
  },
  {
   "cell_type": "code",
   "execution_count": 50,
   "metadata": {},
   "outputs": [
    {
     "data": {
      "text/plain": [
       "<Figure size 432x288 with 0 Axes>"
      ]
     },
     "metadata": {},
     "output_type": "display_data"
    },
    {
     "data": {
      "image/png": "[encoded data removed]",
      "text/plain": [
       "<Figure size 432x288 with 1 Axes>"
      ]
     },
     "metadata": {},
     "output_type": "display_data"
    }
   ],
   "source": [
    "plt.clf()\n",
    "fig = plt.figure()\n",
    "fig.suptitle('Scatter plot of Actual versus Predicted counts')\n",
    "plt.scatter(x=predicted_counts, y=actual_counts, marker='.')\n",
    "plt.xlabel('Predicted counts')\n",
    "plt.ylabel('Actual counts')\n",
    "plt.show()"
   ]
  },
  {
   "cell_type": "code",
   "execution_count": 52,
   "metadata": {},
   "outputs": [
    {
     "name": "stdout",
     "output_type": "stream",
     "text": [
      "<statsmodels.genmod._prediction.PredictionResults object at 0x7fdc3bf2b6d0>\n"
     ]
    }
   ],
   "source": [
    "print(poisson_predictions)"
   ]
  },
  {
   "cell_type": "code",
   "execution_count": 54,
   "metadata": {},
   "outputs": [
    {
     "data": {
      "text/plain": [
       "0.2696335078534031"
      ]
     },
     "execution_count": 54,
     "metadata": {},
     "output_type": "execute_result"
    }
   ],
   "source": [
    "np.mean(y_test['sales'])"
   ]
  },
  {
   "cell_type": "code",
   "execution_count": null,
   "metadata": {},
   "outputs": [],
   "source": []
  },
  {
   "cell_type": "code",
   "execution_count": null,
   "metadata": {},
   "outputs": [],
   "source": []
  }
 ],
 "metadata": {
  "interpreter": {
   "hash": "8cdf8e27a6a01ad1cac13f7a3302b334775911623636020b5b45a311449ddcb2"
  },
  "kernelspec": {
   "display_name": "Python 3.7.11 64-bit ('python_env_37': conda)",
   "language": "python",
   "name": "python3"
  },
  "language_info": {
   "codemirror_mode": {
    "name": "ipython",
    "version": 3
   },
   "file_extension": ".py",
   "mimetype": "text/x-python",
   "name": "python",
   "nbconvert_exporter": "python",
   "pygments_lexer": "ipython3",
   "version": "3.7.11"
  },
  "orig_nbformat": 4
 },
 "nbformat": 4,
 "nbformat_minor": 2
}
