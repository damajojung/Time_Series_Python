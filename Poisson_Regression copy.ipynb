{
 "cells": [
  {
   "cell_type": "markdown",
   "metadata": {},
   "source": [
    "# Poisson Regression for Competiton"
   ]
  },
  {
   "cell_type": "code",
   "execution_count": 1,
   "metadata": {},
   "outputs": [],
   "source": [
    "\n",
    "import numpy as np\n",
    "import matplotlib.pyplot as plt\n",
    "import pandas as pd\n",
    "import seaborn as sns\n",
    "from statsmodels.tsa.stattools import adfuller\n",
    "import statsmodels.api as sm\n",
    "from patsy import dmatrices\n",
    "plt.style.use(['ggplot'])"
   ]
  },
  {
   "cell_type": "code",
   "execution_count": 2,
   "metadata": {},
   "outputs": [
    {
     "name": "stdout",
     "output_type": "stream",
     "text": [
      "Unnamed: 0     int64\n",
      "d             object\n",
      "date          object\n",
      "weekday       object\n",
      "id            object\n",
      "sales          int64\n",
      "dtype: object\n"
     ]
    }
   ],
   "source": [
    "# load the dataset\n",
    "PATH = '/Users/dj/Documents/GitHub/Data/ts_forecast'\n",
    "df = pd.read_csv( PATH + '/df.csv') # Training data \n",
    "df1 = pd.read_csv( PATH + '/df1.csv') # Testing data\n",
    "df2 = pd.read_csv( PATH + '/df2.csv') # Complete data for Competition\n",
    "reduced = pd.read_csv( PATH + '/reduced.csv') #Only last month\n",
    "print(df.dtypes) # We can see that month is of type object, therefore it will be changed to datetime"
   ]
  },
  {
   "cell_type": "code",
   "execution_count": 3,
   "metadata": {},
   "outputs": [],
   "source": [
    "# For some strange reason, a new column is being added which will be removed \n",
    "df = df.drop(['Unnamed: 0'], axis=1)\n",
    "df1 = df1.drop(['Unnamed: 0'], axis=1)\n",
    "df2 = df2.drop(['Unnamed: 0'], axis=1)\n",
    "reduced = reduced.drop(['Unnamed: 0'], axis=1)"
   ]
  },
  {
   "cell_type": "code",
   "execution_count": 4,
   "metadata": {},
   "outputs": [
    {
     "name": "stdout",
     "output_type": "stream",
     "text": [
      "d                  object\n",
      "date       datetime64[ns]\n",
      "weekday            object\n",
      "id                 object\n",
      "sales               int64\n",
      "dtype: object\n"
     ]
    }
   ],
   "source": [
    "# Change the type object of date to date\n",
    "df['date'] = pd.to_datetime(df['date'])\n",
    "df1['date'] = pd.to_datetime(df1['date'])\n",
    "df2['date'] = pd.to_datetime(df2['date'])\n",
    "reduced['date'] = pd.to_datetime(reduced['date'])\n",
    "\n",
    "print(df.dtypes)"
   ]
  },
  {
   "cell_type": "code",
   "execution_count": 5,
   "metadata": {},
   "outputs": [
    {
     "data": {
      "text/html": [
       "<div>\n",
       "<style scoped>\n",
       "    .dataframe tbody tr th:only-of-type {\n",
       "        vertical-align: middle;\n",
       "    }\n",
       "\n",
       "    .dataframe tbody tr th {\n",
       "        vertical-align: top;\n",
       "    }\n",
       "\n",
       "    .dataframe thead th {\n",
       "        text-align: right;\n",
       "    }\n",
       "</style>\n",
       "<table border=\"1\" class=\"dataframe\">\n",
       "  <thead>\n",
       "    <tr style=\"text-align: right;\">\n",
       "      <th></th>\n",
       "      <th>d</th>\n",
       "      <th>date</th>\n",
       "      <th>weekday</th>\n",
       "      <th>id</th>\n",
       "      <th>sales</th>\n",
       "    </tr>\n",
       "  </thead>\n",
       "  <tbody>\n",
       "    <tr>\n",
       "      <th>0</th>\n",
       "      <td>d_1</td>\n",
       "      <td>2011-01-29</td>\n",
       "      <td>Saturday</td>\n",
       "      <td>FOODS_3_001_TX_3_validation</td>\n",
       "      <td>0</td>\n",
       "    </tr>\n",
       "    <tr>\n",
       "      <th>1093</th>\n",
       "      <td>d_2</td>\n",
       "      <td>2011-01-30</td>\n",
       "      <td>Sunday</td>\n",
       "      <td>FOODS_3_001_TX_3_validation</td>\n",
       "      <td>2</td>\n",
       "    </tr>\n",
       "    <tr>\n",
       "      <th>1945</th>\n",
       "      <td>d_3</td>\n",
       "      <td>2011-01-31</td>\n",
       "      <td>Monday</td>\n",
       "      <td>FOODS_3_001_TX_3_validation</td>\n",
       "      <td>1</td>\n",
       "    </tr>\n",
       "    <tr>\n",
       "      <th>2916</th>\n",
       "      <td>d_4</td>\n",
       "      <td>2011-02-01</td>\n",
       "      <td>Tuesday</td>\n",
       "      <td>FOODS_3_001_TX_3_validation</td>\n",
       "      <td>3</td>\n",
       "    </tr>\n",
       "    <tr>\n",
       "      <th>3565</th>\n",
       "      <td>d_5</td>\n",
       "      <td>2011-02-02</td>\n",
       "      <td>Wednesday</td>\n",
       "      <td>FOODS_3_001_TX_3_validation</td>\n",
       "      <td>0</td>\n",
       "    </tr>\n",
       "    <tr>\n",
       "      <th>...</th>\n",
       "      <td>...</td>\n",
       "      <td>...</td>\n",
       "      <td>...</td>\n",
       "      <td>...</td>\n",
       "      <td>...</td>\n",
       "    </tr>\n",
       "    <tr>\n",
       "      <th>1570833</th>\n",
       "      <td>d_1909</td>\n",
       "      <td>2016-04-20</td>\n",
       "      <td>Wednesday</td>\n",
       "      <td>FOODS_3_827_TX_3_validation</td>\n",
       "      <td>0</td>\n",
       "    </tr>\n",
       "    <tr>\n",
       "      <th>1571482</th>\n",
       "      <td>d_1910</td>\n",
       "      <td>2016-04-21</td>\n",
       "      <td>Thursday</td>\n",
       "      <td>FOODS_3_827_TX_3_validation</td>\n",
       "      <td>1</td>\n",
       "    </tr>\n",
       "    <tr>\n",
       "      <th>1572453</th>\n",
       "      <td>d_1911</td>\n",
       "      <td>2016-04-22</td>\n",
       "      <td>Friday</td>\n",
       "      <td>FOODS_3_827_TX_3_validation</td>\n",
       "      <td>0</td>\n",
       "    </tr>\n",
       "    <tr>\n",
       "      <th>1573305</th>\n",
       "      <td>d_1912</td>\n",
       "      <td>2016-04-23</td>\n",
       "      <td>Saturday</td>\n",
       "      <td>FOODS_3_827_TX_3_validation</td>\n",
       "      <td>0</td>\n",
       "    </tr>\n",
       "    <tr>\n",
       "      <th>1574398</th>\n",
       "      <td>d_1913</td>\n",
       "      <td>2016-04-24</td>\n",
       "      <td>Sunday</td>\n",
       "      <td>FOODS_3_827_TX_3_validation</td>\n",
       "      <td>3</td>\n",
       "    </tr>\n",
       "  </tbody>\n",
       "</table>\n",
       "<p>1574399 rows × 5 columns</p>\n",
       "</div>"
      ],
      "text/plain": [
       "              d       date    weekday                           id  sales\n",
       "0           d_1 2011-01-29   Saturday  FOODS_3_001_TX_3_validation      0\n",
       "1093        d_2 2011-01-30     Sunday  FOODS_3_001_TX_3_validation      2\n",
       "1945        d_3 2011-01-31     Monday  FOODS_3_001_TX_3_validation      1\n",
       "2916        d_4 2011-02-01    Tuesday  FOODS_3_001_TX_3_validation      3\n",
       "3565        d_5 2011-02-02  Wednesday  FOODS_3_001_TX_3_validation      0\n",
       "...         ...        ...        ...                          ...    ...\n",
       "1570833  d_1909 2016-04-20  Wednesday  FOODS_3_827_TX_3_validation      0\n",
       "1571482  d_1910 2016-04-21   Thursday  FOODS_3_827_TX_3_validation      1\n",
       "1572453  d_1911 2016-04-22     Friday  FOODS_3_827_TX_3_validation      0\n",
       "1573305  d_1912 2016-04-23   Saturday  FOODS_3_827_TX_3_validation      0\n",
       "1574398  d_1913 2016-04-24     Sunday  FOODS_3_827_TX_3_validation      3\n",
       "\n",
       "[1574399 rows x 5 columns]"
      ]
     },
     "execution_count": 5,
     "metadata": {},
     "output_type": "execute_result"
    }
   ],
   "source": [
    "df = df.sort_values(by = ['id', 'date'])\n",
    "df1 = df1.sort_values(by = ['id', 'date'])\n",
    "df2 = df2.sort_values(by = ['id', 'date'])\n",
    "reduced = reduced.sort_values(by = ['id', 'date'])\n",
    "df"
   ]
  },
  {
   "cell_type": "markdown",
   "metadata": {},
   "source": [
    "# End of Data Import - Let's do EDA"
   ]
  },
  {
   "cell_type": "code",
   "execution_count": 6,
   "metadata": {},
   "outputs": [
    {
     "data": {
      "text/plain": [
       "[<matplotlib.lines.Line2D at 0x7fe70458ea10>]"
      ]
     },
     "execution_count": 6,
     "metadata": {},
     "output_type": "execute_result"
    },
    {
     "data": {
      "image/png": "[encoded data removed]",
      "text/plain": [
       "<Figure size 864x576 with 1 Axes>"
      ]
     },
     "metadata": {},
     "output_type": "display_data"
    }
   ],
   "source": [
    "plt.figure(figsize=(12,8))\n",
    "plt.plot(reduced[\"sales\"])"
   ]
  },
  {
   "cell_type": "code",
   "execution_count": null,
   "metadata": {},
   "outputs": [],
   "source": [
    "\n"
   ]
  },
  {
   "cell_type": "code",
   "execution_count": 7,
   "metadata": {},
   "outputs": [
    {
     "name": "stdout",
     "output_type": "stream",
     "text": [
      "<class 'str'>\n"
     ]
    }
   ],
   "source": [
    "names = np.unique(df['id'])\n",
    "print(type(names[0]))\n",
    "selected = names[0:1]\n",
    "\n",
    "small_df = df[df['id'].isin(selected)]\n",
    "small_df = small_df.sort_values(by = ['id', 'date'])"
   ]
  },
  {
   "cell_type": "code",
   "execution_count": 8,
   "metadata": {},
   "outputs": [
    {
     "data": {
      "text/html": [
       "<div>\n",
       "<style scoped>\n",
       "    .dataframe tbody tr th:only-of-type {\n",
       "        vertical-align: middle;\n",
       "    }\n",
       "\n",
       "    .dataframe tbody tr th {\n",
       "        vertical-align: top;\n",
       "    }\n",
       "\n",
       "    .dataframe thead th {\n",
       "        text-align: right;\n",
       "    }\n",
       "</style>\n",
       "<table border=\"1\" class=\"dataframe\">\n",
       "  <thead>\n",
       "    <tr style=\"text-align: right;\">\n",
       "      <th></th>\n",
       "      <th>d</th>\n",
       "      <th>date</th>\n",
       "      <th>weekday</th>\n",
       "      <th>id</th>\n",
       "      <th>sales</th>\n",
       "    </tr>\n",
       "  </thead>\n",
       "  <tbody>\n",
       "    <tr>\n",
       "      <th>0</th>\n",
       "      <td>d_1</td>\n",
       "      <td>2011-01-29</td>\n",
       "      <td>Saturday</td>\n",
       "      <td>FOODS_3_001_TX_3_validation</td>\n",
       "      <td>0</td>\n",
       "    </tr>\n",
       "    <tr>\n",
       "      <th>1093</th>\n",
       "      <td>d_2</td>\n",
       "      <td>2011-01-30</td>\n",
       "      <td>Sunday</td>\n",
       "      <td>FOODS_3_001_TX_3_validation</td>\n",
       "      <td>2</td>\n",
       "    </tr>\n",
       "    <tr>\n",
       "      <th>1945</th>\n",
       "      <td>d_3</td>\n",
       "      <td>2011-01-31</td>\n",
       "      <td>Monday</td>\n",
       "      <td>FOODS_3_001_TX_3_validation</td>\n",
       "      <td>1</td>\n",
       "    </tr>\n",
       "    <tr>\n",
       "      <th>2916</th>\n",
       "      <td>d_4</td>\n",
       "      <td>2011-02-01</td>\n",
       "      <td>Tuesday</td>\n",
       "      <td>FOODS_3_001_TX_3_validation</td>\n",
       "      <td>3</td>\n",
       "    </tr>\n",
       "    <tr>\n",
       "      <th>3565</th>\n",
       "      <td>d_5</td>\n",
       "      <td>2011-02-02</td>\n",
       "      <td>Wednesday</td>\n",
       "      <td>FOODS_3_001_TX_3_validation</td>\n",
       "      <td>0</td>\n",
       "    </tr>\n",
       "    <tr>\n",
       "      <th>...</th>\n",
       "      <td>...</td>\n",
       "      <td>...</td>\n",
       "      <td>...</td>\n",
       "      <td>...</td>\n",
       "      <td>...</td>\n",
       "    </tr>\n",
       "    <tr>\n",
       "      <th>1570915</th>\n",
       "      <td>d_1909</td>\n",
       "      <td>2016-04-20</td>\n",
       "      <td>Wednesday</td>\n",
       "      <td>FOODS_3_001_TX_3_validation</td>\n",
       "      <td>0</td>\n",
       "    </tr>\n",
       "    <tr>\n",
       "      <th>1571320</th>\n",
       "      <td>d_1910</td>\n",
       "      <td>2016-04-21</td>\n",
       "      <td>Thursday</td>\n",
       "      <td>FOODS_3_001_TX_3_validation</td>\n",
       "      <td>0</td>\n",
       "    </tr>\n",
       "    <tr>\n",
       "      <th>1572292</th>\n",
       "      <td>d_1911</td>\n",
       "      <td>2016-04-22</td>\n",
       "      <td>Friday</td>\n",
       "      <td>FOODS_3_001_TX_3_validation</td>\n",
       "      <td>5</td>\n",
       "    </tr>\n",
       "    <tr>\n",
       "      <th>1573265</th>\n",
       "      <td>d_1912</td>\n",
       "      <td>2016-04-23</td>\n",
       "      <td>Saturday</td>\n",
       "      <td>FOODS_3_001_TX_3_validation</td>\n",
       "      <td>2</td>\n",
       "    </tr>\n",
       "    <tr>\n",
       "      <th>1574359</th>\n",
       "      <td>d_1913</td>\n",
       "      <td>2016-04-24</td>\n",
       "      <td>Sunday</td>\n",
       "      <td>FOODS_3_001_TX_3_validation</td>\n",
       "      <td>0</td>\n",
       "    </tr>\n",
       "  </tbody>\n",
       "</table>\n",
       "<p>1913 rows × 5 columns</p>\n",
       "</div>"
      ],
      "text/plain": [
       "              d       date    weekday                           id  sales\n",
       "0           d_1 2011-01-29   Saturday  FOODS_3_001_TX_3_validation      0\n",
       "1093        d_2 2011-01-30     Sunday  FOODS_3_001_TX_3_validation      2\n",
       "1945        d_3 2011-01-31     Monday  FOODS_3_001_TX_3_validation      1\n",
       "2916        d_4 2011-02-01    Tuesday  FOODS_3_001_TX_3_validation      3\n",
       "3565        d_5 2011-02-02  Wednesday  FOODS_3_001_TX_3_validation      0\n",
       "...         ...        ...        ...                          ...    ...\n",
       "1570915  d_1909 2016-04-20  Wednesday  FOODS_3_001_TX_3_validation      0\n",
       "1571320  d_1910 2016-04-21   Thursday  FOODS_3_001_TX_3_validation      0\n",
       "1572292  d_1911 2016-04-22     Friday  FOODS_3_001_TX_3_validation      5\n",
       "1573265  d_1912 2016-04-23   Saturday  FOODS_3_001_TX_3_validation      2\n",
       "1574359  d_1913 2016-04-24     Sunday  FOODS_3_001_TX_3_validation      0\n",
       "\n",
       "[1913 rows x 5 columns]"
      ]
     },
     "execution_count": 8,
     "metadata": {},
     "output_type": "execute_result"
    }
   ],
   "source": [
    "small_df"
   ]
  },
  {
   "cell_type": "code",
   "execution_count": 9,
   "metadata": {},
   "outputs": [],
   "source": [
    "piv_tab = small_df.pivot_table(index='date',columns='id',values='sales',aggfunc='sum')"
   ]
  },
  {
   "cell_type": "code",
   "execution_count": 10,
   "metadata": {},
   "outputs": [
    {
     "data": {
      "image/png": "[encoded data removed]",
      "text/plain": [
       "<Figure size 864x576 with 1 Axes>"
      ]
     },
     "metadata": {},
     "output_type": "display_data"
    }
   ],
   "source": [
    "plt.figure(figsize=(12,8))\n",
    "plt.plot(piv_tab)\n",
    "plt.show()"
   ]
  },
  {
   "cell_type": "code",
   "execution_count": null,
   "metadata": {},
   "outputs": [],
   "source": []
  },
  {
   "cell_type": "markdown",
   "metadata": {},
   "source": [
    "# Transition to Poisson Regression"
   ]
  },
  {
   "cell_type": "code",
   "execution_count": 11,
   "metadata": {},
   "outputs": [],
   "source": [
    "# Getting some additional data for the regression\n",
    "ds = df['date']\n",
    "df['MONTH'] = ds.dt.month\n",
    "df['DAY_OF_WEEK'] = ds.dt.dayofweek\n",
    "df['DAY'] = ds.dt.day\n",
    "\n",
    "\n",
    "ds1 = df1['date']\n",
    "df1['MONTH'] = ds.dt.month\n",
    "df1['DAY_OF_WEEK'] = ds1.dt.dayofweek\n",
    "df1['DAY'] = ds1.dt.day\n",
    "\n",
    "ds2 = df2['date']\n",
    "df2['MONTH'] = ds2.dt.month\n",
    "df2['DAY_OF_WEEK'] = ds2.dt.dayofweek\n",
    "df2['DAY'] = ds2.dt.day"
   ]
  },
  {
   "cell_type": "markdown",
   "metadata": {},
   "source": []
  },
  {
   "cell_type": "code",
   "execution_count": 12,
   "metadata": {},
   "outputs": [
    {
     "data": {
      "text/html": [
       "<div>\n",
       "<style scoped>\n",
       "    .dataframe tbody tr th:only-of-type {\n",
       "        vertical-align: middle;\n",
       "    }\n",
       "\n",
       "    .dataframe tbody tr th {\n",
       "        vertical-align: top;\n",
       "    }\n",
       "\n",
       "    .dataframe thead th {\n",
       "        text-align: right;\n",
       "    }\n",
       "</style>\n",
       "<table border=\"1\" class=\"dataframe\">\n",
       "  <thead>\n",
       "    <tr style=\"text-align: right;\">\n",
       "      <th></th>\n",
       "      <th>d</th>\n",
       "      <th>date</th>\n",
       "      <th>weekday</th>\n",
       "      <th>id</th>\n",
       "      <th>sales</th>\n",
       "      <th>MONTH</th>\n",
       "      <th>DAY_OF_WEEK</th>\n",
       "      <th>DAY</th>\n",
       "    </tr>\n",
       "  </thead>\n",
       "  <tbody>\n",
       "    <tr>\n",
       "      <th>0</th>\n",
       "      <td>d_1</td>\n",
       "      <td>2011-01-29</td>\n",
       "      <td>Saturday</td>\n",
       "      <td>FOODS_3_001_TX_3_validation</td>\n",
       "      <td>0</td>\n",
       "      <td>1</td>\n",
       "      <td>5</td>\n",
       "      <td>29</td>\n",
       "    </tr>\n",
       "    <tr>\n",
       "      <th>1093</th>\n",
       "      <td>d_2</td>\n",
       "      <td>2011-01-30</td>\n",
       "      <td>Sunday</td>\n",
       "      <td>FOODS_3_001_TX_3_validation</td>\n",
       "      <td>2</td>\n",
       "      <td>1</td>\n",
       "      <td>6</td>\n",
       "      <td>30</td>\n",
       "    </tr>\n",
       "    <tr>\n",
       "      <th>1945</th>\n",
       "      <td>d_3</td>\n",
       "      <td>2011-01-31</td>\n",
       "      <td>Monday</td>\n",
       "      <td>FOODS_3_001_TX_3_validation</td>\n",
       "      <td>1</td>\n",
       "      <td>1</td>\n",
       "      <td>0</td>\n",
       "      <td>31</td>\n",
       "    </tr>\n",
       "    <tr>\n",
       "      <th>2916</th>\n",
       "      <td>d_4</td>\n",
       "      <td>2011-02-01</td>\n",
       "      <td>Tuesday</td>\n",
       "      <td>FOODS_3_001_TX_3_validation</td>\n",
       "      <td>3</td>\n",
       "      <td>2</td>\n",
       "      <td>1</td>\n",
       "      <td>1</td>\n",
       "    </tr>\n",
       "    <tr>\n",
       "      <th>3565</th>\n",
       "      <td>d_5</td>\n",
       "      <td>2011-02-02</td>\n",
       "      <td>Wednesday</td>\n",
       "      <td>FOODS_3_001_TX_3_validation</td>\n",
       "      <td>0</td>\n",
       "      <td>2</td>\n",
       "      <td>2</td>\n",
       "      <td>2</td>\n",
       "    </tr>\n",
       "    <tr>\n",
       "      <th>...</th>\n",
       "      <td>...</td>\n",
       "      <td>...</td>\n",
       "      <td>...</td>\n",
       "      <td>...</td>\n",
       "      <td>...</td>\n",
       "      <td>...</td>\n",
       "      <td>...</td>\n",
       "      <td>...</td>\n",
       "    </tr>\n",
       "    <tr>\n",
       "      <th>1570833</th>\n",
       "      <td>d_1909</td>\n",
       "      <td>2016-04-20</td>\n",
       "      <td>Wednesday</td>\n",
       "      <td>FOODS_3_827_TX_3_validation</td>\n",
       "      <td>0</td>\n",
       "      <td>4</td>\n",
       "      <td>2</td>\n",
       "      <td>20</td>\n",
       "    </tr>\n",
       "    <tr>\n",
       "      <th>1571482</th>\n",
       "      <td>d_1910</td>\n",
       "      <td>2016-04-21</td>\n",
       "      <td>Thursday</td>\n",
       "      <td>FOODS_3_827_TX_3_validation</td>\n",
       "      <td>1</td>\n",
       "      <td>4</td>\n",
       "      <td>3</td>\n",
       "      <td>21</td>\n",
       "    </tr>\n",
       "    <tr>\n",
       "      <th>1572453</th>\n",
       "      <td>d_1911</td>\n",
       "      <td>2016-04-22</td>\n",
       "      <td>Friday</td>\n",
       "      <td>FOODS_3_827_TX_3_validation</td>\n",
       "      <td>0</td>\n",
       "      <td>4</td>\n",
       "      <td>4</td>\n",
       "      <td>22</td>\n",
       "    </tr>\n",
       "    <tr>\n",
       "      <th>1573305</th>\n",
       "      <td>d_1912</td>\n",
       "      <td>2016-04-23</td>\n",
       "      <td>Saturday</td>\n",
       "      <td>FOODS_3_827_TX_3_validation</td>\n",
       "      <td>0</td>\n",
       "      <td>4</td>\n",
       "      <td>5</td>\n",
       "      <td>23</td>\n",
       "    </tr>\n",
       "    <tr>\n",
       "      <th>1574398</th>\n",
       "      <td>d_1913</td>\n",
       "      <td>2016-04-24</td>\n",
       "      <td>Sunday</td>\n",
       "      <td>FOODS_3_827_TX_3_validation</td>\n",
       "      <td>3</td>\n",
       "      <td>4</td>\n",
       "      <td>6</td>\n",
       "      <td>24</td>\n",
       "    </tr>\n",
       "  </tbody>\n",
       "</table>\n",
       "<p>1574399 rows × 8 columns</p>\n",
       "</div>"
      ],
      "text/plain": [
       "              d       date    weekday                           id  sales  \\\n",
       "0           d_1 2011-01-29   Saturday  FOODS_3_001_TX_3_validation      0   \n",
       "1093        d_2 2011-01-30     Sunday  FOODS_3_001_TX_3_validation      2   \n",
       "1945        d_3 2011-01-31     Monday  FOODS_3_001_TX_3_validation      1   \n",
       "2916        d_4 2011-02-01    Tuesday  FOODS_3_001_TX_3_validation      3   \n",
       "3565        d_5 2011-02-02  Wednesday  FOODS_3_001_TX_3_validation      0   \n",
       "...         ...        ...        ...                          ...    ...   \n",
       "1570833  d_1909 2016-04-20  Wednesday  FOODS_3_827_TX_3_validation      0   \n",
       "1571482  d_1910 2016-04-21   Thursday  FOODS_3_827_TX_3_validation      1   \n",
       "1572453  d_1911 2016-04-22     Friday  FOODS_3_827_TX_3_validation      0   \n",
       "1573305  d_1912 2016-04-23   Saturday  FOODS_3_827_TX_3_validation      0   \n",
       "1574398  d_1913 2016-04-24     Sunday  FOODS_3_827_TX_3_validation      3   \n",
       "\n",
       "         MONTH  DAY_OF_WEEK  DAY  \n",
       "0            1            5   29  \n",
       "1093         1            6   30  \n",
       "1945         1            0   31  \n",
       "2916         2            1    1  \n",
       "3565         2            2    2  \n",
       "...        ...          ...  ...  \n",
       "1570833      4            2   20  \n",
       "1571482      4            3   21  \n",
       "1572453      4            4   22  \n",
       "1573305      4            5   23  \n",
       "1574398      4            6   24  \n",
       "\n",
       "[1574399 rows x 8 columns]"
      ]
     },
     "execution_count": 12,
     "metadata": {},
     "output_type": "execute_result"
    }
   ],
   "source": [
    "df"
   ]
  },
  {
   "cell_type": "code",
   "execution_count": null,
   "metadata": {},
   "outputs": [],
   "source": []
  },
  {
   "cell_type": "code",
   "execution_count": 13,
   "metadata": {},
   "outputs": [
    {
     "name": "stdout",
     "output_type": "stream",
     "text": [
      "Training data set length=1259288\n",
      "Testing data set length=315111\n"
     ]
    }
   ],
   "source": [
    "mask = np.random.rand(len(df)) < 0.8\n",
    "df_train = df[mask]\n",
    "df_test = df[~mask]\n",
    "print('Training data set length='+str(len(df_train)))\n",
    "print('Testing data set length='+str(len(df_test)))"
   ]
  },
  {
   "cell_type": "code",
   "execution_count": 14,
   "metadata": {},
   "outputs": [],
   "source": [
    "expr = \"\"\"sales ~ DAY + DAY_OF_WEEK + MONTH + weekday\"\"\""
   ]
  },
  {
   "cell_type": "code",
   "execution_count": 15,
   "metadata": {},
   "outputs": [],
   "source": [
    "y_train, X_train = dmatrices(expr, df_train, return_type='dataframe')\n",
    "y_test, X_test = dmatrices(expr, df_test, return_type='dataframe')"
   ]
  },
  {
   "cell_type": "code",
   "execution_count": 16,
   "metadata": {},
   "outputs": [],
   "source": [
    "poisson_training_results = sm.GLM(y_train, X_train, family=sm.families.Poisson()).fit()"
   ]
  },
  {
   "cell_type": "code",
   "execution_count": 17,
   "metadata": {},
   "outputs": [
    {
     "name": "stdout",
     "output_type": "stream",
     "text": [
      "                 Generalized Linear Model Regression Results                  \n",
      "==============================================================================\n",
      "Dep. Variable:                  sales   No. Observations:              1259288\n",
      "Model:                            GLM   Df Residuals:                  1259279\n",
      "Model Family:                 Poisson   Df Model:                            8\n",
      "Link Function:                    log   Scale:                          1.0000\n",
      "Method:                          IRLS   Log-Likelihood:            -4.8149e+06\n",
      "Date:                Thu, 09 Dec 2021   Deviance:                   8.2445e+06\n",
      "Time:                        20:02:34   Pearson chi2:                 2.61e+07\n",
      "No. Iterations:                   100                                         \n",
      "Covariance Type:            nonrobust                                         \n",
      "========================================================================================\n",
      "                           coef    std err          z      P>|z|      [0.025      0.975]\n",
      "----------------------------------------------------------------------------------------\n",
      "Intercept                0.3862      0.001    275.272      0.000       0.383       0.389\n",
      "weekday[T.Monday]        0.3249      0.001    225.672      0.000       0.322       0.328\n",
      "weekday[T.Saturday]      0.1155      0.003     43.891      0.000       0.110       0.121\n",
      "weekday[T.Sunday]        0.0952      0.003     32.869      0.000       0.090       0.101\n",
      "weekday[T.Thursday]     -0.0223      0.002     -9.822      0.000      -0.027      -0.018\n",
      "weekday[T.Tuesday]       0.1369      0.002     78.682      0.000       0.134       0.140\n",
      "weekday[T.Wednesday]     0.0459      0.002     22.795      0.000       0.042       0.050\n",
      "DAY                     -0.0053   7.35e-05    -72.417      0.000      -0.005      -0.005\n",
      "DAY_OF_WEEK              0.0706      0.000    161.920      0.000       0.070       0.071\n",
      "MONTH                    0.0030      0.000     16.256      0.000       0.003       0.003\n",
      "========================================================================================\n"
     ]
    }
   ],
   "source": [
    "print(poisson_training_results.summary())"
   ]
  },
  {
   "cell_type": "code",
   "execution_count": 18,
   "metadata": {},
   "outputs": [
    {
     "name": "stdout",
     "output_type": "stream",
     "text": [
      "             mean   mean_se  mean_ci_lower  mean_ci_upper\n",
      "0        2.020162  0.004308       2.011737       2.028622\n",
      "1945     1.731559  0.003981       1.723775       1.739379\n",
      "5347     1.921818  0.004018       1.913959       1.929709\n",
      "6805     2.408402  0.004514       2.399571       2.417265\n",
      "14462    1.681797  0.003339       1.675266       1.688355\n",
      "...           ...       ...            ...            ...\n",
      "1553414  1.525892  0.003390       1.519262       1.532550\n",
      "1562450  2.371997  0.003922       2.364323       2.379697\n",
      "1566862  1.823502  0.003278       1.817089       1.829939\n",
      "1568321  2.285194  0.003687       2.277978       2.292432\n",
      "1574398  2.201566  0.003815       2.194102       2.209056\n",
      "\n",
      "[315111 rows x 4 columns]\n"
     ]
    }
   ],
   "source": [
    "poisson_predictions = poisson_training_results.get_prediction(X_test)\n",
    "#summary_frame() returns a pandas DataFrame\n",
    "predictions_summary_frame = poisson_predictions.summary_frame()\n",
    "print(predictions_summary_frame)"
   ]
  },
  {
   "cell_type": "code",
   "execution_count": 19,
   "metadata": {},
   "outputs": [
    {
     "data": {
      "image/png": "[encoded data removed]",
      "text/plain": [
       "<Figure size 432x288 with 1 Axes>"
      ]
     },
     "metadata": {},
     "output_type": "display_data"
    }
   ],
   "source": [
    "predicted_counts=predictions_summary_frame['mean']\n",
    "actual_counts = y_test['sales']\n",
    "fig = plt.figure()\n",
    "fig.suptitle('Predicted versus actual bicyclist counts on the Brooklyn bridge')\n",
    "predicted, = plt.plot(X_test.index, predicted_counts, 'go-', label='Predicted counts')\n",
    "actual, = plt.plot(X_test.index, actual_counts, 'ro-', label='Actual counts')\n",
    "plt.legend(handles=[predicted, actual])\n",
    "plt.show()\n"
   ]
  },
  {
   "cell_type": "code",
   "execution_count": 20,
   "metadata": {},
   "outputs": [
    {
     "data": {
      "text/plain": [
       "<Figure size 432x288 with 0 Axes>"
      ]
     },
     "metadata": {},
     "output_type": "display_data"
    },
    {
     "data": {
      "image/png": "[encoded data removed]",
      "text/plain": [
       "<Figure size 432x288 with 1 Axes>"
      ]
     },
     "metadata": {},
     "output_type": "display_data"
    }
   ],
   "source": [
    "plt.clf()\n",
    "fig = plt.figure()\n",
    "fig.suptitle('Scatter plot of Actual versus Predicted counts')\n",
    "plt.scatter(x=predicted_counts, y=actual_counts, marker='.')\n",
    "plt.xlabel('Predicted counts')\n",
    "plt.ylabel('Actual counts')\n",
    "plt.show()"
   ]
  },
  {
   "cell_type": "code",
   "execution_count": null,
   "metadata": {},
   "outputs": [],
   "source": []
  },
  {
   "cell_type": "markdown",
   "metadata": {},
   "source": [
    "# Try to do it more simple "
   ]
  },
  {
   "cell_type": "code",
   "execution_count": 29,
   "metadata": {},
   "outputs": [],
   "source": [
    "y_train, X_train = df['sales'], df[['DAY', 'DAY_OF_WEEK' , 'MONTH' , 'weekday' ]]"
   ]
  },
  {
   "cell_type": "code",
   "execution_count": 35,
   "metadata": {},
   "outputs": [
    {
     "ename": "TypeError",
     "evalue": "ufunc 'isfinite' not supported for the input types, and the inputs could not be safely coerced to any supported types according to the casting rule ''safe''",
     "output_type": "error",
     "traceback": [
      "\u001b[0;31m---------------------------------------------------------------------------\u001b[0m",
      "\u001b[0;31mTypeError\u001b[0m                                 Traceback (most recent call last)",
      "\u001b[0;32m<ipython-input-35-8bd888ca4c7d>\u001b[0m in \u001b[0;36m<module>\u001b[0;34m\u001b[0m\n\u001b[0;32m----> 1\u001b[0;31m \u001b[0mpoisson_training_results\u001b[0m \u001b[0;34m=\u001b[0m \u001b[0msm\u001b[0m\u001b[0;34m.\u001b[0m\u001b[0mGLM\u001b[0m\u001b[0;34m(\u001b[0m\u001b[0mnp\u001b[0m\u001b[0;34m.\u001b[0m\u001b[0masarray\u001b[0m\u001b[0;34m(\u001b[0m\u001b[0my_train\u001b[0m\u001b[0;34m)\u001b[0m\u001b[0;34m,\u001b[0m \u001b[0mnp\u001b[0m\u001b[0;34m.\u001b[0m\u001b[0masarray\u001b[0m\u001b[0;34m(\u001b[0m\u001b[0mX_train\u001b[0m\u001b[0;34m)\u001b[0m\u001b[0;34m,\u001b[0m \u001b[0mfamily\u001b[0m\u001b[0;34m=\u001b[0m\u001b[0msm\u001b[0m\u001b[0;34m.\u001b[0m\u001b[0mfamilies\u001b[0m\u001b[0;34m.\u001b[0m\u001b[0mPoisson\u001b[0m\u001b[0;34m(\u001b[0m\u001b[0;34m)\u001b[0m\u001b[0;34m)\u001b[0m\u001b[0;34m.\u001b[0m\u001b[0mfit\u001b[0m\u001b[0;34m(\u001b[0m\u001b[0;34m)\u001b[0m\u001b[0;34m\u001b[0m\u001b[0;34m\u001b[0m\u001b[0m\n\u001b[0m",
      "\u001b[0;32m/opt/anaconda3/lib/python3.7/site-packages/statsmodels/genmod/generalized_linear_model.py\u001b[0m in \u001b[0;36m__init__\u001b[0;34m(self, endog, exog, family, offset, exposure, freq_weights, var_weights, missing, **kwargs)\u001b[0m\n\u001b[1;32m    312\u001b[0m                                   \u001b[0moffset\u001b[0m\u001b[0;34m=\u001b[0m\u001b[0moffset\u001b[0m\u001b[0;34m,\u001b[0m \u001b[0mexposure\u001b[0m\u001b[0;34m=\u001b[0m\u001b[0mexposure\u001b[0m\u001b[0;34m,\u001b[0m\u001b[0;34m\u001b[0m\u001b[0;34m\u001b[0m\u001b[0m\n\u001b[1;32m    313\u001b[0m                                   \u001b[0mfreq_weights\u001b[0m\u001b[0;34m=\u001b[0m\u001b[0mfreq_weights\u001b[0m\u001b[0;34m,\u001b[0m\u001b[0;34m\u001b[0m\u001b[0;34m\u001b[0m\u001b[0m\n\u001b[0;32m--> 314\u001b[0;31m                                   var_weights=var_weights, **kwargs)\n\u001b[0m\u001b[1;32m    315\u001b[0m         self._check_inputs(family, self.offset, self.exposure, self.endog,\n\u001b[1;32m    316\u001b[0m                            self.freq_weights, self.var_weights)\n",
      "\u001b[0;32m/opt/anaconda3/lib/python3.7/site-packages/statsmodels/base/model.py\u001b[0m in \u001b[0;36m__init__\u001b[0;34m(self, endog, exog, **kwargs)\u001b[0m\n\u001b[1;32m    235\u001b[0m \u001b[0;34m\u001b[0m\u001b[0m\n\u001b[1;32m    236\u001b[0m     \u001b[0;32mdef\u001b[0m \u001b[0m__init__\u001b[0m\u001b[0;34m(\u001b[0m\u001b[0mself\u001b[0m\u001b[0;34m,\u001b[0m \u001b[0mendog\u001b[0m\u001b[0;34m,\u001b[0m \u001b[0mexog\u001b[0m\u001b[0;34m=\u001b[0m\u001b[0;32mNone\u001b[0m\u001b[0;34m,\u001b[0m \u001b[0;34m**\u001b[0m\u001b[0mkwargs\u001b[0m\u001b[0;34m)\u001b[0m\u001b[0;34m:\u001b[0m\u001b[0;34m\u001b[0m\u001b[0;34m\u001b[0m\u001b[0m\n\u001b[0;32m--> 237\u001b[0;31m         \u001b[0msuper\u001b[0m\u001b[0;34m(\u001b[0m\u001b[0mLikelihoodModel\u001b[0m\u001b[0;34m,\u001b[0m \u001b[0mself\u001b[0m\u001b[0;34m)\u001b[0m\u001b[0;34m.\u001b[0m\u001b[0m__init__\u001b[0m\u001b[0;34m(\u001b[0m\u001b[0mendog\u001b[0m\u001b[0;34m,\u001b[0m \u001b[0mexog\u001b[0m\u001b[0;34m,\u001b[0m \u001b[0;34m**\u001b[0m\u001b[0mkwargs\u001b[0m\u001b[0;34m)\u001b[0m\u001b[0;34m\u001b[0m\u001b[0;34m\u001b[0m\u001b[0m\n\u001b[0m\u001b[1;32m    238\u001b[0m         \u001b[0mself\u001b[0m\u001b[0;34m.\u001b[0m\u001b[0minitialize\u001b[0m\u001b[0;34m(\u001b[0m\u001b[0;34m)\u001b[0m\u001b[0;34m\u001b[0m\u001b[0;34m\u001b[0m\u001b[0m\n\u001b[1;32m    239\u001b[0m \u001b[0;34m\u001b[0m\u001b[0m\n",
      "\u001b[0;32m/opt/anaconda3/lib/python3.7/site-packages/statsmodels/base/model.py\u001b[0m in \u001b[0;36m__init__\u001b[0;34m(self, endog, exog, **kwargs)\u001b[0m\n\u001b[1;32m     76\u001b[0m         \u001b[0mhasconst\u001b[0m \u001b[0;34m=\u001b[0m \u001b[0mkwargs\u001b[0m\u001b[0;34m.\u001b[0m\u001b[0mpop\u001b[0m\u001b[0;34m(\u001b[0m\u001b[0;34m'hasconst'\u001b[0m\u001b[0;34m,\u001b[0m \u001b[0;32mNone\u001b[0m\u001b[0;34m)\u001b[0m\u001b[0;34m\u001b[0m\u001b[0;34m\u001b[0m\u001b[0m\n\u001b[1;32m     77\u001b[0m         self.data = self._handle_data(endog, exog, missing, hasconst,\n\u001b[0;32m---> 78\u001b[0;31m                                       **kwargs)\n\u001b[0m\u001b[1;32m     79\u001b[0m         \u001b[0mself\u001b[0m\u001b[0;34m.\u001b[0m\u001b[0mk_constant\u001b[0m \u001b[0;34m=\u001b[0m \u001b[0mself\u001b[0m\u001b[0;34m.\u001b[0m\u001b[0mdata\u001b[0m\u001b[0;34m.\u001b[0m\u001b[0mk_constant\u001b[0m\u001b[0;34m\u001b[0m\u001b[0;34m\u001b[0m\u001b[0m\n\u001b[1;32m     80\u001b[0m         \u001b[0mself\u001b[0m\u001b[0;34m.\u001b[0m\u001b[0mexog\u001b[0m \u001b[0;34m=\u001b[0m \u001b[0mself\u001b[0m\u001b[0;34m.\u001b[0m\u001b[0mdata\u001b[0m\u001b[0;34m.\u001b[0m\u001b[0mexog\u001b[0m\u001b[0;34m\u001b[0m\u001b[0;34m\u001b[0m\u001b[0m\n",
      "\u001b[0;32m/opt/anaconda3/lib/python3.7/site-packages/statsmodels/base/model.py\u001b[0m in \u001b[0;36m_handle_data\u001b[0;34m(self, endog, exog, missing, hasconst, **kwargs)\u001b[0m\n\u001b[1;32m     99\u001b[0m \u001b[0;34m\u001b[0m\u001b[0m\n\u001b[1;32m    100\u001b[0m     \u001b[0;32mdef\u001b[0m \u001b[0m_handle_data\u001b[0m\u001b[0;34m(\u001b[0m\u001b[0mself\u001b[0m\u001b[0;34m,\u001b[0m \u001b[0mendog\u001b[0m\u001b[0;34m,\u001b[0m \u001b[0mexog\u001b[0m\u001b[0;34m,\u001b[0m \u001b[0mmissing\u001b[0m\u001b[0;34m,\u001b[0m \u001b[0mhasconst\u001b[0m\u001b[0;34m,\u001b[0m \u001b[0;34m**\u001b[0m\u001b[0mkwargs\u001b[0m\u001b[0;34m)\u001b[0m\u001b[0;34m:\u001b[0m\u001b[0;34m\u001b[0m\u001b[0;34m\u001b[0m\u001b[0m\n\u001b[0;32m--> 101\u001b[0;31m         \u001b[0mdata\u001b[0m \u001b[0;34m=\u001b[0m \u001b[0mhandle_data\u001b[0m\u001b[0;34m(\u001b[0m\u001b[0mendog\u001b[0m\u001b[0;34m,\u001b[0m \u001b[0mexog\u001b[0m\u001b[0;34m,\u001b[0m \u001b[0mmissing\u001b[0m\u001b[0;34m,\u001b[0m \u001b[0mhasconst\u001b[0m\u001b[0;34m,\u001b[0m \u001b[0;34m**\u001b[0m\u001b[0mkwargs\u001b[0m\u001b[0;34m)\u001b[0m\u001b[0;34m\u001b[0m\u001b[0;34m\u001b[0m\u001b[0m\n\u001b[0m\u001b[1;32m    102\u001b[0m         \u001b[0;31m# kwargs arrays could have changed, easier to just attach here\u001b[0m\u001b[0;34m\u001b[0m\u001b[0;34m\u001b[0m\u001b[0;34m\u001b[0m\u001b[0m\n\u001b[1;32m    103\u001b[0m         \u001b[0;32mfor\u001b[0m \u001b[0mkey\u001b[0m \u001b[0;32min\u001b[0m \u001b[0mkwargs\u001b[0m\u001b[0;34m:\u001b[0m\u001b[0;34m\u001b[0m\u001b[0;34m\u001b[0m\u001b[0m\n",
      "\u001b[0;32m/opt/anaconda3/lib/python3.7/site-packages/statsmodels/base/data.py\u001b[0m in \u001b[0;36mhandle_data\u001b[0;34m(endog, exog, missing, hasconst, **kwargs)\u001b[0m\n\u001b[1;32m    671\u001b[0m     \u001b[0mklass\u001b[0m \u001b[0;34m=\u001b[0m \u001b[0mhandle_data_class_factory\u001b[0m\u001b[0;34m(\u001b[0m\u001b[0mendog\u001b[0m\u001b[0;34m,\u001b[0m \u001b[0mexog\u001b[0m\u001b[0;34m)\u001b[0m\u001b[0;34m\u001b[0m\u001b[0;34m\u001b[0m\u001b[0m\n\u001b[1;32m    672\u001b[0m     return klass(endog, exog=exog, missing=missing, hasconst=hasconst,\n\u001b[0;32m--> 673\u001b[0;31m                  **kwargs)\n\u001b[0m",
      "\u001b[0;32m/opt/anaconda3/lib/python3.7/site-packages/statsmodels/base/data.py\u001b[0m in \u001b[0;36m__init__\u001b[0;34m(self, endog, exog, missing, hasconst, **kwargs)\u001b[0m\n\u001b[1;32m     85\u001b[0m         \u001b[0mself\u001b[0m\u001b[0;34m.\u001b[0m\u001b[0mconst_idx\u001b[0m \u001b[0;34m=\u001b[0m \u001b[0;32mNone\u001b[0m\u001b[0;34m\u001b[0m\u001b[0;34m\u001b[0m\u001b[0m\n\u001b[1;32m     86\u001b[0m         \u001b[0mself\u001b[0m\u001b[0;34m.\u001b[0m\u001b[0mk_constant\u001b[0m \u001b[0;34m=\u001b[0m \u001b[0;36m0\u001b[0m\u001b[0;34m\u001b[0m\u001b[0;34m\u001b[0m\u001b[0m\n\u001b[0;32m---> 87\u001b[0;31m         \u001b[0mself\u001b[0m\u001b[0;34m.\u001b[0m\u001b[0m_handle_constant\u001b[0m\u001b[0;34m(\u001b[0m\u001b[0mhasconst\u001b[0m\u001b[0;34m)\u001b[0m\u001b[0;34m\u001b[0m\u001b[0;34m\u001b[0m\u001b[0m\n\u001b[0m\u001b[1;32m     88\u001b[0m         \u001b[0mself\u001b[0m\u001b[0;34m.\u001b[0m\u001b[0m_check_integrity\u001b[0m\u001b[0;34m(\u001b[0m\u001b[0;34m)\u001b[0m\u001b[0;34m\u001b[0m\u001b[0;34m\u001b[0m\u001b[0m\n\u001b[1;32m     89\u001b[0m         \u001b[0mself\u001b[0m\u001b[0;34m.\u001b[0m\u001b[0m_cache\u001b[0m \u001b[0;34m=\u001b[0m \u001b[0;34m{\u001b[0m\u001b[0;34m}\u001b[0m\u001b[0;34m\u001b[0m\u001b[0;34m\u001b[0m\u001b[0m\n",
      "\u001b[0;32m/opt/anaconda3/lib/python3.7/site-packages/statsmodels/base/data.py\u001b[0m in \u001b[0;36m_handle_constant\u001b[0;34m(self, hasconst)\u001b[0m\n\u001b[1;32m    130\u001b[0m             \u001b[0mcheck_implicit\u001b[0m \u001b[0;34m=\u001b[0m \u001b[0;32mFalse\u001b[0m\u001b[0;34m\u001b[0m\u001b[0;34m\u001b[0m\u001b[0m\n\u001b[1;32m    131\u001b[0m             \u001b[0mexog_max\u001b[0m \u001b[0;34m=\u001b[0m \u001b[0mnp\u001b[0m\u001b[0;34m.\u001b[0m\u001b[0mmax\u001b[0m\u001b[0;34m(\u001b[0m\u001b[0mself\u001b[0m\u001b[0;34m.\u001b[0m\u001b[0mexog\u001b[0m\u001b[0;34m,\u001b[0m \u001b[0maxis\u001b[0m\u001b[0;34m=\u001b[0m\u001b[0;36m0\u001b[0m\u001b[0;34m)\u001b[0m\u001b[0;34m\u001b[0m\u001b[0;34m\u001b[0m\u001b[0m\n\u001b[0;32m--> 132\u001b[0;31m             \u001b[0;32mif\u001b[0m \u001b[0;32mnot\u001b[0m \u001b[0mnp\u001b[0m\u001b[0;34m.\u001b[0m\u001b[0misfinite\u001b[0m\u001b[0;34m(\u001b[0m\u001b[0mexog_max\u001b[0m\u001b[0;34m)\u001b[0m\u001b[0;34m.\u001b[0m\u001b[0mall\u001b[0m\u001b[0;34m(\u001b[0m\u001b[0;34m)\u001b[0m\u001b[0;34m:\u001b[0m\u001b[0;34m\u001b[0m\u001b[0;34m\u001b[0m\u001b[0m\n\u001b[0m\u001b[1;32m    133\u001b[0m                 \u001b[0;32mraise\u001b[0m \u001b[0mMissingDataError\u001b[0m\u001b[0;34m(\u001b[0m\u001b[0;34m'exog contains inf or nans'\u001b[0m\u001b[0;34m)\u001b[0m\u001b[0;34m\u001b[0m\u001b[0;34m\u001b[0m\u001b[0m\n\u001b[1;32m    134\u001b[0m             \u001b[0mexog_min\u001b[0m \u001b[0;34m=\u001b[0m \u001b[0mnp\u001b[0m\u001b[0;34m.\u001b[0m\u001b[0mmin\u001b[0m\u001b[0;34m(\u001b[0m\u001b[0mself\u001b[0m\u001b[0;34m.\u001b[0m\u001b[0mexog\u001b[0m\u001b[0;34m,\u001b[0m \u001b[0maxis\u001b[0m\u001b[0;34m=\u001b[0m\u001b[0;36m0\u001b[0m\u001b[0;34m)\u001b[0m\u001b[0;34m\u001b[0m\u001b[0;34m\u001b[0m\u001b[0m\n",
      "\u001b[0;31mTypeError\u001b[0m: ufunc 'isfinite' not supported for the input types, and the inputs could not be safely coerced to any supported types according to the casting rule ''safe''"
     ]
    }
   ],
   "source": [
    "poisson_training_results = sm.GLM(y_train, X_train, family=sm.families.Poisson()).fit()"
   ]
  },
  {
   "cell_type": "code",
   "execution_count": null,
   "metadata": {},
   "outputs": [],
   "source": [
    "# test"
   ]
  },
  {
   "cell_type": "code",
   "execution_count": 31,
   "metadata": {},
   "outputs": [
    {
     "data": {
      "text/html": [
       "<div>\n",
       "<style scoped>\n",
       "    .dataframe tbody tr th:only-of-type {\n",
       "        vertical-align: middle;\n",
       "    }\n",
       "\n",
       "    .dataframe tbody tr th {\n",
       "        vertical-align: top;\n",
       "    }\n",
       "\n",
       "    .dataframe thead th {\n",
       "        text-align: right;\n",
       "    }\n",
       "</style>\n",
       "<table border=\"1\" class=\"dataframe\">\n",
       "  <thead>\n",
       "    <tr style=\"text-align: right;\">\n",
       "      <th></th>\n",
       "      <th>d</th>\n",
       "      <th>date</th>\n",
       "      <th>weekday</th>\n",
       "      <th>id</th>\n",
       "      <th>sales</th>\n",
       "      <th>MONTH</th>\n",
       "      <th>DAY_OF_WEEK</th>\n",
       "      <th>DAY</th>\n",
       "    </tr>\n",
       "  </thead>\n",
       "  <tbody>\n",
       "    <tr>\n",
       "      <th>0</th>\n",
       "      <td>d_1</td>\n",
       "      <td>2011-01-29</td>\n",
       "      <td>Saturday</td>\n",
       "      <td>FOODS_3_001_TX_3_validation</td>\n",
       "      <td>0</td>\n",
       "      <td>1</td>\n",
       "      <td>5</td>\n",
       "      <td>29</td>\n",
       "    </tr>\n",
       "    <tr>\n",
       "      <th>1093</th>\n",
       "      <td>d_2</td>\n",
       "      <td>2011-01-30</td>\n",
       "      <td>Sunday</td>\n",
       "      <td>FOODS_3_001_TX_3_validation</td>\n",
       "      <td>2</td>\n",
       "      <td>1</td>\n",
       "      <td>6</td>\n",
       "      <td>30</td>\n",
       "    </tr>\n",
       "    <tr>\n",
       "      <th>1945</th>\n",
       "      <td>d_3</td>\n",
       "      <td>2011-01-31</td>\n",
       "      <td>Monday</td>\n",
       "      <td>FOODS_3_001_TX_3_validation</td>\n",
       "      <td>1</td>\n",
       "      <td>1</td>\n",
       "      <td>0</td>\n",
       "      <td>31</td>\n",
       "    </tr>\n",
       "    <tr>\n",
       "      <th>2916</th>\n",
       "      <td>d_4</td>\n",
       "      <td>2011-02-01</td>\n",
       "      <td>Tuesday</td>\n",
       "      <td>FOODS_3_001_TX_3_validation</td>\n",
       "      <td>3</td>\n",
       "      <td>2</td>\n",
       "      <td>1</td>\n",
       "      <td>1</td>\n",
       "    </tr>\n",
       "    <tr>\n",
       "      <th>3565</th>\n",
       "      <td>d_5</td>\n",
       "      <td>2011-02-02</td>\n",
       "      <td>Wednesday</td>\n",
       "      <td>FOODS_3_001_TX_3_validation</td>\n",
       "      <td>0</td>\n",
       "      <td>2</td>\n",
       "      <td>2</td>\n",
       "      <td>2</td>\n",
       "    </tr>\n",
       "    <tr>\n",
       "      <th>...</th>\n",
       "      <td>...</td>\n",
       "      <td>...</td>\n",
       "      <td>...</td>\n",
       "      <td>...</td>\n",
       "      <td>...</td>\n",
       "      <td>...</td>\n",
       "      <td>...</td>\n",
       "      <td>...</td>\n",
       "    </tr>\n",
       "    <tr>\n",
       "      <th>1570833</th>\n",
       "      <td>d_1909</td>\n",
       "      <td>2016-04-20</td>\n",
       "      <td>Wednesday</td>\n",
       "      <td>FOODS_3_827_TX_3_validation</td>\n",
       "      <td>0</td>\n",
       "      <td>4</td>\n",
       "      <td>2</td>\n",
       "      <td>20</td>\n",
       "    </tr>\n",
       "    <tr>\n",
       "      <th>1571482</th>\n",
       "      <td>d_1910</td>\n",
       "      <td>2016-04-21</td>\n",
       "      <td>Thursday</td>\n",
       "      <td>FOODS_3_827_TX_3_validation</td>\n",
       "      <td>1</td>\n",
       "      <td>4</td>\n",
       "      <td>3</td>\n",
       "      <td>21</td>\n",
       "    </tr>\n",
       "    <tr>\n",
       "      <th>1572453</th>\n",
       "      <td>d_1911</td>\n",
       "      <td>2016-04-22</td>\n",
       "      <td>Friday</td>\n",
       "      <td>FOODS_3_827_TX_3_validation</td>\n",
       "      <td>0</td>\n",
       "      <td>4</td>\n",
       "      <td>4</td>\n",
       "      <td>22</td>\n",
       "    </tr>\n",
       "    <tr>\n",
       "      <th>1573305</th>\n",
       "      <td>d_1912</td>\n",
       "      <td>2016-04-23</td>\n",
       "      <td>Saturday</td>\n",
       "      <td>FOODS_3_827_TX_3_validation</td>\n",
       "      <td>0</td>\n",
       "      <td>4</td>\n",
       "      <td>5</td>\n",
       "      <td>23</td>\n",
       "    </tr>\n",
       "    <tr>\n",
       "      <th>1574398</th>\n",
       "      <td>d_1913</td>\n",
       "      <td>2016-04-24</td>\n",
       "      <td>Sunday</td>\n",
       "      <td>FOODS_3_827_TX_3_validation</td>\n",
       "      <td>3</td>\n",
       "      <td>4</td>\n",
       "      <td>6</td>\n",
       "      <td>24</td>\n",
       "    </tr>\n",
       "  </tbody>\n",
       "</table>\n",
       "<p>1574399 rows × 8 columns</p>\n",
       "</div>"
      ],
      "text/plain": [
       "              d       date    weekday                           id  sales  \\\n",
       "0           d_1 2011-01-29   Saturday  FOODS_3_001_TX_3_validation      0   \n",
       "1093        d_2 2011-01-30     Sunday  FOODS_3_001_TX_3_validation      2   \n",
       "1945        d_3 2011-01-31     Monday  FOODS_3_001_TX_3_validation      1   \n",
       "2916        d_4 2011-02-01    Tuesday  FOODS_3_001_TX_3_validation      3   \n",
       "3565        d_5 2011-02-02  Wednesday  FOODS_3_001_TX_3_validation      0   \n",
       "...         ...        ...        ...                          ...    ...   \n",
       "1570833  d_1909 2016-04-20  Wednesday  FOODS_3_827_TX_3_validation      0   \n",
       "1571482  d_1910 2016-04-21   Thursday  FOODS_3_827_TX_3_validation      1   \n",
       "1572453  d_1911 2016-04-22     Friday  FOODS_3_827_TX_3_validation      0   \n",
       "1573305  d_1912 2016-04-23   Saturday  FOODS_3_827_TX_3_validation      0   \n",
       "1574398  d_1913 2016-04-24     Sunday  FOODS_3_827_TX_3_validation      3   \n",
       "\n",
       "         MONTH  DAY_OF_WEEK  DAY  \n",
       "0            1            5   29  \n",
       "1093         1            6   30  \n",
       "1945         1            0   31  \n",
       "2916         2            1    1  \n",
       "3565         2            2    2  \n",
       "...        ...          ...  ...  \n",
       "1570833      4            2   20  \n",
       "1571482      4            3   21  \n",
       "1572453      4            4   22  \n",
       "1573305      4            5   23  \n",
       "1574398      4            6   24  \n",
       "\n",
       "[1574399 rows x 8 columns]"
      ]
     },
     "execution_count": 31,
     "metadata": {},
     "output_type": "execute_result"
    }
   ],
   "source": [
    "df"
   ]
  },
  {
   "cell_type": "code",
   "execution_count": 33,
   "metadata": {},
   "outputs": [
    {
     "data": {
      "text/html": [
       "<div>\n",
       "<style scoped>\n",
       "    .dataframe tbody tr th:only-of-type {\n",
       "        vertical-align: middle;\n",
       "    }\n",
       "\n",
       "    .dataframe tbody tr th {\n",
       "        vertical-align: top;\n",
       "    }\n",
       "\n",
       "    .dataframe thead th {\n",
       "        text-align: right;\n",
       "    }\n",
       "</style>\n",
       "<table border=\"1\" class=\"dataframe\">\n",
       "  <thead>\n",
       "    <tr style=\"text-align: right;\">\n",
       "      <th></th>\n",
       "      <th>DAY</th>\n",
       "      <th>DAY_OF_WEEK</th>\n",
       "      <th>MONTH</th>\n",
       "      <th>weekday</th>\n",
       "    </tr>\n",
       "  </thead>\n",
       "  <tbody>\n",
       "    <tr>\n",
       "      <th>0</th>\n",
       "      <td>29</td>\n",
       "      <td>5</td>\n",
       "      <td>1</td>\n",
       "      <td>Saturday</td>\n",
       "    </tr>\n",
       "    <tr>\n",
       "      <th>1093</th>\n",
       "      <td>30</td>\n",
       "      <td>6</td>\n",
       "      <td>1</td>\n",
       "      <td>Sunday</td>\n",
       "    </tr>\n",
       "    <tr>\n",
       "      <th>1945</th>\n",
       "      <td>31</td>\n",
       "      <td>0</td>\n",
       "      <td>1</td>\n",
       "      <td>Monday</td>\n",
       "    </tr>\n",
       "    <tr>\n",
       "      <th>2916</th>\n",
       "      <td>1</td>\n",
       "      <td>1</td>\n",
       "      <td>2</td>\n",
       "      <td>Tuesday</td>\n",
       "    </tr>\n",
       "    <tr>\n",
       "      <th>3565</th>\n",
       "      <td>2</td>\n",
       "      <td>2</td>\n",
       "      <td>2</td>\n",
       "      <td>Wednesday</td>\n",
       "    </tr>\n",
       "    <tr>\n",
       "      <th>...</th>\n",
       "      <td>...</td>\n",
       "      <td>...</td>\n",
       "      <td>...</td>\n",
       "      <td>...</td>\n",
       "    </tr>\n",
       "    <tr>\n",
       "      <th>1570833</th>\n",
       "      <td>20</td>\n",
       "      <td>2</td>\n",
       "      <td>4</td>\n",
       "      <td>Wednesday</td>\n",
       "    </tr>\n",
       "    <tr>\n",
       "      <th>1571482</th>\n",
       "      <td>21</td>\n",
       "      <td>3</td>\n",
       "      <td>4</td>\n",
       "      <td>Thursday</td>\n",
       "    </tr>\n",
       "    <tr>\n",
       "      <th>1572453</th>\n",
       "      <td>22</td>\n",
       "      <td>4</td>\n",
       "      <td>4</td>\n",
       "      <td>Friday</td>\n",
       "    </tr>\n",
       "    <tr>\n",
       "      <th>1573305</th>\n",
       "      <td>23</td>\n",
       "      <td>5</td>\n",
       "      <td>4</td>\n",
       "      <td>Saturday</td>\n",
       "    </tr>\n",
       "    <tr>\n",
       "      <th>1574398</th>\n",
       "      <td>24</td>\n",
       "      <td>6</td>\n",
       "      <td>4</td>\n",
       "      <td>Sunday</td>\n",
       "    </tr>\n",
       "  </tbody>\n",
       "</table>\n",
       "<p>1574399 rows × 4 columns</p>\n",
       "</div>"
      ],
      "text/plain": [
       "         DAY  DAY_OF_WEEK  MONTH    weekday\n",
       "0         29            5      1   Saturday\n",
       "1093      30            6      1     Sunday\n",
       "1945      31            0      1     Monday\n",
       "2916       1            1      2    Tuesday\n",
       "3565       2            2      2  Wednesday\n",
       "...      ...          ...    ...        ...\n",
       "1570833   20            2      4  Wednesday\n",
       "1571482   21            3      4   Thursday\n",
       "1572453   22            4      4     Friday\n",
       "1573305   23            5      4   Saturday\n",
       "1574398   24            6      4     Sunday\n",
       "\n",
       "[1574399 rows x 4 columns]"
      ]
     },
     "execution_count": 33,
     "metadata": {},
     "output_type": "execute_result"
    }
   ],
   "source": []
  },
  {
   "cell_type": "code",
   "execution_count": null,
   "metadata": {},
   "outputs": [],
   "source": []
  },
  {
   "cell_type": "code",
   "execution_count": null,
   "metadata": {},
   "outputs": [],
   "source": []
  }
 ],
 "metadata": {
  "interpreter": {
   "hash": "8cdf8e27a6a01ad1cac13f7a3302b334775911623636020b5b45a311449ddcb2"
  },
  "kernelspec": {
   "display_name": "Python 3.7.11 64-bit ('python_env_37': conda)",
   "language": "python",
   "name": "python3"
  },
  "language_info": {
   "codemirror_mode": {
    "name": "ipython",
    "version": 3
   },
   "file_extension": ".py",
   "mimetype": "text/x-python",
   "name": "python",
   "nbconvert_exporter": "python",
   "pygments_lexer": "ipython3",
   "version": "3.7.10"
  },
  "orig_nbformat": 4
 },
 "nbformat": 4,
 "nbformat_minor": 2
}
